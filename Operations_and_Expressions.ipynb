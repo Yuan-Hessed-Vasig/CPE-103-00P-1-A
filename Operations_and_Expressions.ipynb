{
  "nbformat": 4,
  "nbformat_minor": 0,
  "metadata": {
    "colab": {
      "provenance": [],
      "toc_visible": true,
      "authorship_tag": "ABX9TyPCB1pfw6nQ2WyxOQ0YiAjD",
      "include_colab_link": true
    },
    "kernelspec": {
      "name": "python3",
      "display_name": "Python 3"
    },
    "language_info": {
      "name": "python"
    }
  },
  "cells": [
    {
      "cell_type": "markdown",
      "metadata": {
        "id": "view-in-github",
        "colab_type": "text"
      },
      "source": [
        "<a href=\"https://colab.research.google.com/github/Yuan-Hessed-Vasig/CPE-103-00P-1-A/blob/main/Operations_and_Expressions.ipynb\" target=\"_parent\"><img src=\"https://colab.research.google.com/assets/colab-badge.svg\" alt=\"Open In Colab\"/></a>"
      ]
    },
    {
      "cell_type": "markdown",
      "source": [
        "# Boolean Operators"
      ],
      "metadata": {
        "id": "MAoPQ8SgykAQ"
      }
    },
    {
      "cell_type": "code",
      "execution_count": null,
      "metadata": {
        "colab": {
          "base_uri": "https://localhost:8080/"
        },
        "id": "EuHwNxUryH3D",
        "outputId": "4880048e-da3a-4e10-af4a-16554b15dc87"
      },
      "outputs": [
        {
          "output_type": "stream",
          "name": "stdout",
          "text": [
            "True\n",
            "False\n",
            "False\n"
          ]
        }
      ],
      "source": [
        "print (10>9)\n",
        "print (10==9)\n",
        "print (10<9)"
      ]
    },
    {
      "cell_type": "markdown",
      "source": [
        "# bool() Function"
      ],
      "metadata": {
        "id": "Dwo7P_0SzTQ-"
      }
    },
    {
      "cell_type": "code",
      "source": [
        "print(bool(\"hello\"))\n",
        "print(bool(15))\n",
        "print(bool(1))\n",
        "print(bool(0))\n",
        "print(bool(None))"
      ],
      "metadata": {
        "colab": {
          "base_uri": "https://localhost:8080/"
        },
        "id": "j1WXqA1wzXnd",
        "outputId": "9d8617c6-857a-4be6-e64c-c8bb4ef8952d"
      },
      "execution_count": null,
      "outputs": [
        {
          "output_type": "stream",
          "name": "stdout",
          "text": [
            "True\n",
            "True\n",
            "True\n",
            "False\n",
            "False\n"
          ]
        }
      ]
    },
    {
      "cell_type": "markdown",
      "source": [
        "# Function can return a boolean"
      ],
      "metadata": {
        "id": "9knMsBk7z9xe"
      }
    },
    {
      "cell_type": "code",
      "source": [
        "def myFunction():\n",
        "  return True\n",
        "\n",
        "print(myFunction())"
      ],
      "metadata": {
        "colab": {
          "base_uri": "https://localhost:8080/"
        },
        "id": "sAUtHEsNzzpU",
        "outputId": "3c726385-ee89-44c3-bc71-6c619bdc10c4"
      },
      "execution_count": null,
      "outputs": [
        {
          "output_type": "stream",
          "name": "stdout",
          "text": [
            "True\n"
          ]
        }
      ]
    },
    {
      "cell_type": "code",
      "source": [
        "def myFunction():\n",
        "  return True\n",
        "\n",
        "if myFunction():\n",
        "  print(\"YES!\")\n",
        "else:\n",
        "  print(\"NO!\")"
      ],
      "metadata": {
        "colab": {
          "base_uri": "https://localhost:8080/"
        },
        "id": "2UhBAAK50avO",
        "outputId": "de23abdb-2736-4c7f-bae2-ca5a60882f1a"
      },
      "execution_count": null,
      "outputs": [
        {
          "output_type": "stream",
          "name": "stdout",
          "text": [
            "YES!\n"
          ]
        }
      ]
    },
    {
      "cell_type": "code",
      "source": [
        "print (10>9)\n",
        "\n",
        "a = 6\n",
        "b = 7\n",
        "\n",
        "print (a == b)\n",
        "print (a ! = a)"
      ],
      "metadata": {
        "colab": {
          "base_uri": "https://localhost:8080/",
          "height": 106
        },
        "id": "xBG-0IVI12o1",
        "outputId": "ee51637f-4fb3-4e96-9bda-c57175865aab"
      },
      "execution_count": null,
      "outputs": [
        {
          "output_type": "error",
          "ename": "SyntaxError",
          "evalue": "invalid syntax (<ipython-input-11-dd78153fbeb9>, line 7)",
          "traceback": [
            "\u001b[0;36m  File \u001b[0;32m\"<ipython-input-11-dd78153fbeb9>\"\u001b[0;36m, line \u001b[0;32m7\u001b[0m\n\u001b[0;31m    print (a ! = a)\u001b[0m\n\u001b[0m             ^\u001b[0m\n\u001b[0;31mSyntaxError\u001b[0m\u001b[0;31m:\u001b[0m invalid syntax\n"
          ]
        }
      ]
    },
    {
      "cell_type": "markdown",
      "source": [
        "# Python Operators"
      ],
      "metadata": {
        "id": "JdNKy7WC2RUO"
      }
    },
    {
      "cell_type": "code",
      "source": [
        "print (10+5)\n",
        "print (10-5)\n",
        "print (10*5)\n",
        "print (10/5)\n",
        "print (10%5)\n",
        "print (10**5)\n",
        "print (10//5)"
      ],
      "metadata": {
        "colab": {
          "base_uri": "https://localhost:8080/"
        },
        "id": "88RNWJlS2S0N",
        "outputId": "a4201111-ced9-46ba-9927-71f475bc27cf"
      },
      "execution_count": null,
      "outputs": [
        {
          "output_type": "stream",
          "name": "stdout",
          "text": [
            "15\n",
            "5\n",
            "50\n",
            "2.0\n",
            "0\n",
            "100000\n",
            "2\n"
          ]
        }
      ]
    },
    {
      "cell_type": "code",
      "source": [
        "print(10%5)\n",
        "print(10//3)\n",
        "print(10**3)"
      ],
      "metadata": {
        "colab": {
          "base_uri": "https://localhost:8080/"
        },
        "id": "91qqtMkR3Tco",
        "outputId": "6329ed18-8dda-440f-b9fa-336cf44a1f3b"
      },
      "execution_count": null,
      "outputs": [
        {
          "output_type": "stream",
          "name": "stdout",
          "text": [
            "0\n",
            "3\n",
            "1000\n"
          ]
        }
      ]
    },
    {
      "cell_type": "markdown",
      "source": [
        "# Python Bitwise Operators"
      ],
      "metadata": {
        "id": "nxh7imRj4d8k"
      }
    },
    {
      "cell_type": "code",
      "source": [
        "a = 60\n",
        "b = 13\n",
        "print (a%b)"
      ],
      "metadata": {
        "colab": {
          "base_uri": "https://localhost:8080/"
        },
        "id": "efsUGJFO4gZC",
        "outputId": "b4839d90-0976-467a-d249-66205394c549"
      },
      "execution_count": null,
      "outputs": [
        {
          "output_type": "stream",
          "name": "stdout",
          "text": [
            "8\n"
          ]
        }
      ]
    },
    {
      "cell_type": "markdown",
      "source": [
        "& Binary AND"
      ],
      "metadata": {
        "id": "7ekh3CT16RyV"
      }
    },
    {
      "cell_type": "code",
      "source": [
        "a = 60\n",
        "b = 13\n",
        "print (a&b)"
      ],
      "metadata": {
        "colab": {
          "base_uri": "https://localhost:8080/"
        },
        "id": "ZqwxYbwA6XFE",
        "outputId": "e4d32753-10dd-49ae-848d-b5842904d98d"
      },
      "execution_count": null,
      "outputs": [
        {
          "output_type": "stream",
          "name": "stdout",
          "text": [
            "12\n"
          ]
        }
      ]
    },
    {
      "cell_type": "markdown",
      "source": [
        "| Binary OR"
      ],
      "metadata": {
        "id": "wFNbk92d6ebj"
      }
    },
    {
      "cell_type": "code",
      "source": [
        "print (a|b)"
      ],
      "metadata": {
        "colab": {
          "base_uri": "https://localhost:8080/"
        },
        "id": "icipoS896g_T",
        "outputId": "677e351e-b6ac-446b-ba98-b0c1a679563a"
      },
      "execution_count": null,
      "outputs": [
        {
          "output_type": "stream",
          "name": "stdout",
          "text": [
            "61\n"
          ]
        }
      ]
    },
    {
      "cell_type": "markdown",
      "source": [
        "^ Binary XOR"
      ],
      "metadata": {
        "id": "UyTr7j006oQV"
      }
    },
    {
      "cell_type": "code",
      "source": [
        "print (a^b)"
      ],
      "metadata": {
        "colab": {
          "base_uri": "https://localhost:8080/"
        },
        "id": "TUQFQ0sZ6nMK",
        "outputId": "65f90bba-8e10-41fe-da34-39e8b26c25bb"
      },
      "execution_count": null,
      "outputs": [
        {
          "output_type": "stream",
          "name": "stdout",
          "text": [
            "49\n"
          ]
        }
      ]
    },
    {
      "cell_type": "markdown",
      "source": [
        "Binary Ones Compliment"
      ],
      "metadata": {
        "id": "1sNYIvEA7_Xt"
      }
    },
    {
      "cell_type": "code",
      "source": [
        "print (~a)"
      ],
      "metadata": {
        "colab": {
          "base_uri": "https://localhost:8080/"
        },
        "id": "nnV02h0A7_98",
        "outputId": "5f83bc96-615c-43a2-cc47-6e2dab6160a8"
      },
      "execution_count": null,
      "outputs": [
        {
          "output_type": "stream",
          "name": "stdout",
          "text": [
            "-61\n"
          ]
        }
      ]
    },
    {
      "cell_type": "markdown",
      "source": [
        "<< Binary Left Shift"
      ],
      "metadata": {
        "id": "Zg4dFqe4-bPx"
      }
    },
    {
      "cell_type": "code",
      "source": [
        "print (a << 2)"
      ],
      "metadata": {
        "colab": {
          "base_uri": "https://localhost:8080/"
        },
        "id": "KtkuVtVk-e0O",
        "outputId": "4afe7127-9ce6-4ac1-cf14-be3968b74daa"
      },
      "execution_count": null,
      "outputs": [
        {
          "output_type": "stream",
          "name": "stdout",
          "text": [
            "240\n"
          ]
        }
      ]
    },
    {
      "cell_type": "markdown",
      "source": [
        "# Python Assignment Operators"
      ],
      "metadata": {
        "id": "4peoClGN-nW_"
      }
    },
    {
      "cell_type": "code",
      "source": [
        "x += 3\n",
        "x -= 3\n",
        "x *= 3\n",
        "x /= 3\n",
        "x %= 3"
      ],
      "metadata": {
        "id": "4rkhrvFX-uHj"
      },
      "execution_count": null,
      "outputs": []
    },
    {
      "cell_type": "code",
      "source": [
        "x = 11\n",
        "x += 4\n",
        "\n",
        "print (x)"
      ],
      "metadata": {
        "colab": {
          "base_uri": "https://localhost:8080/"
        },
        "id": "KXaEfzQuCtjF",
        "outputId": "32e25a3b-0c73-4ba5-f6b6-b1b009605356"
      },
      "execution_count": null,
      "outputs": [
        {
          "output_type": "stream",
          "name": "stdout",
          "text": [
            "15\n"
          ]
        }
      ]
    },
    {
      "cell_type": "code",
      "source": [
        "x = 11\n",
        "x -= 4\n",
        "\n",
        "print (x)"
      ],
      "metadata": {
        "colab": {
          "base_uri": "https://localhost:8080/"
        },
        "id": "fRhYwz69Cxmd",
        "outputId": "873c71fb-d1a6-4196-e578-db4ad02dc491"
      },
      "execution_count": null,
      "outputs": [
        {
          "output_type": "stream",
          "name": "stdout",
          "text": [
            "7\n"
          ]
        }
      ]
    },
    {
      "cell_type": "code",
      "source": [
        "x = 11\n",
        "x *= 4\n",
        "\n",
        "print (x)"
      ],
      "metadata": {
        "colab": {
          "base_uri": "https://localhost:8080/"
        },
        "id": "7d70Xg4BC04N",
        "outputId": "8a09040c-5b52-4cee-bce8-bb792f84e751"
      },
      "execution_count": null,
      "outputs": [
        {
          "output_type": "stream",
          "name": "stdout",
          "text": [
            "44\n"
          ]
        }
      ]
    },
    {
      "cell_type": "code",
      "source": [
        "x = 11\n",
        "x /= 4\n",
        "\n",
        "print (x)"
      ],
      "metadata": {
        "colab": {
          "base_uri": "https://localhost:8080/"
        },
        "id": "R0T-pbO8C3Ni",
        "outputId": "0b7ee1ad-2cec-4545-8726-6e9eb8d1e3a7"
      },
      "execution_count": null,
      "outputs": [
        {
          "output_type": "stream",
          "name": "stdout",
          "text": [
            "2.75\n"
          ]
        }
      ]
    },
    {
      "cell_type": "code",
      "source": [
        "x = 11\n",
        "x %= 4\n",
        "\n",
        "print (x)"
      ],
      "metadata": {
        "colab": {
          "base_uri": "https://localhost:8080/"
        },
        "id": "0dXtHPO5C5KI",
        "outputId": "0fe84429-8eea-4b96-b66e-1079f59ab2e6"
      },
      "execution_count": null,
      "outputs": [
        {
          "output_type": "stream",
          "name": "stdout",
          "text": [
            "3\n"
          ]
        }
      ]
    },
    {
      "cell_type": "markdown",
      "source": [
        "# Logical Operators"
      ],
      "metadata": {
        "id": "-oSzxqEqHIus"
      }
    },
    {
      "cell_type": "code",
      "source": [
        "10 > 9 and 9 > 10"
      ],
      "metadata": {
        "colab": {
          "base_uri": "https://localhost:8080/"
        },
        "id": "hFO0TsF8HKXm",
        "outputId": "a9fbb26f-e90d-4f65-a873-8540df77e4b5"
      },
      "execution_count": null,
      "outputs": [
        {
          "output_type": "execute_result",
          "data": {
            "text/plain": [
              "False"
            ]
          },
          "metadata": {},
          "execution_count": 31
        }
      ]
    },
    {
      "cell_type": "code",
      "source": [
        "not (10>9 and 9>10)"
      ],
      "metadata": {
        "colab": {
          "base_uri": "https://localhost:8080/"
        },
        "id": "JADkGvDyHMBl",
        "outputId": "e1d154f4-58ca-48b1-f5a6-fe99d4b5fa90"
      },
      "execution_count": null,
      "outputs": [
        {
          "output_type": "execute_result",
          "data": {
            "text/plain": [
              "True"
            ]
          },
          "metadata": {},
          "execution_count": 30
        }
      ]
    },
    {
      "cell_type": "markdown",
      "source": [
        "# Identity Operators"
      ],
      "metadata": {
        "id": "qP4aUvAzHPMj"
      }
    },
    {
      "cell_type": "code",
      "source": [
        "x = 1\n",
        "y = 2\n",
        "\n",
        "print (x is y)\n",
        "print (x is not y)"
      ],
      "metadata": {
        "colab": {
          "base_uri": "https://localhost:8080/"
        },
        "id": "MTDUhsqkHQ_W",
        "outputId": "990ce873-8bfb-4950-bcfd-51cb01e214ea"
      },
      "execution_count": null,
      "outputs": [
        {
          "output_type": "stream",
          "name": "stdout",
          "text": [
            "False\n",
            "True\n"
          ]
        }
      ]
    },
    {
      "cell_type": "markdown",
      "source": [
        "# Conditional Statement"
      ],
      "metadata": {
        "id": "Gci4DeIxIjq1"
      }
    },
    {
      "cell_type": "markdown",
      "source": [
        "1. If statement"
      ],
      "metadata": {
        "id": "SQ_z_8HqInD0"
      }
    },
    {
      "cell_type": "code",
      "source": [
        "x = 3\n",
        "y = 5\n",
        "\n",
        "if x > y:\n",
        "  print (\"x is bigger than why\")\n",
        "elif y > x:\n",
        "  print (\"x is bigger than\")"
      ],
      "metadata": {
        "colab": {
          "base_uri": "https://localhost:8080/"
        },
        "id": "XR86kvOVIoWV",
        "outputId": "355e43e4-b409-45aa-d30f-1e43840f08d5"
      },
      "execution_count": null,
      "outputs": [
        {
          "output_type": "stream",
          "name": "stdout",
          "text": [
            "x is bigger than\n"
          ]
        }
      ]
    },
    {
      "cell_type": "code",
      "source": [],
      "metadata": {
        "id": "EzT4BWHEMH71"
      },
      "execution_count": null,
      "outputs": []
    },
    {
      "cell_type": "markdown",
      "source": [
        "2. Elif Statement"
      ],
      "metadata": {
        "id": "YFKiSlAAMSZ3"
      }
    },
    {
      "cell_type": "code",
      "source": [
        "\n",
        "a = 12\n",
        "b = 12\n",
        "\n",
        "if b > a:\n",
        " print(\"b is greater than a\")\n",
        "elif a > b:\n",
        " print(\"b is less than a\")"
      ],
      "metadata": {
        "id": "eLtbbk6iMUEJ"
      },
      "execution_count": null,
      "outputs": []
    },
    {
      "cell_type": "markdown",
      "source": [
        "3. Else Statements\n",
        "\n"
      ],
      "metadata": {
        "id": "MogFVBDRNEnC"
      }
    },
    {
      "cell_type": "code",
      "source": [
        "\n",
        "a = 200\n",
        "b = 33\n",
        "\n",
        "if b > a:\n",
        " print(\"b is greater than a\")\n",
        "elif a == b:\n",
        " print(\"a and b are equal\")\n",
        "else:\n",
        " print(\"a is greater than b\")"
      ],
      "metadata": {
        "colab": {
          "base_uri": "https://localhost:8080/"
        },
        "id": "a97rxbBDNdoc",
        "outputId": "70b86f67-7cdd-41f9-a92e-5a0927f1b618"
      },
      "execution_count": null,
      "outputs": [
        {
          "output_type": "stream",
          "name": "stdout",
          "text": [
            "a is greater than b\n"
          ]
        }
      ]
    },
    {
      "cell_type": "markdown",
      "source": [
        "And both conditions are true"
      ],
      "metadata": {
        "id": "20NxKA4ROE9o"
      }
    },
    {
      "cell_type": "code",
      "source": [
        "a = 200\n",
        "b = 33\n",
        "c = 500\n",
        "\n",
        "if a > b and c > a:\n",
        "  print (\"both conditions are true\")"
      ],
      "metadata": {
        "colab": {
          "base_uri": "https://localhost:8080/"
        },
        "id": "qQdYMMv7OHEP",
        "outputId": "8daad19f-ab78-48c4-f33e-f6485ecb79a9"
      },
      "execution_count": null,
      "outputs": [
        {
          "output_type": "stream",
          "name": "stdout",
          "text": [
            "both conditions are true\n"
          ]
        }
      ]
    },
    {
      "cell_type": "markdown",
      "source": [
        "Nested if"
      ],
      "metadata": {
        "id": "xrFfEhArPtEY"
      }
    },
    {
      "cell_type": "code",
      "source": [
        "x = 41\n",
        "\n",
        "if x > 10:\n",
        "  print (\"Above ten,\")\n",
        "  if x < 20:\n",
        "    print (\"and also above 20!\")\n",
        "    if x > 30:\n",
        "      print (\"and also above 30\")\n",
        "      if x > 40:\n",
        "        print (\"and also above 40\")\n",
        "        if x > 50:\n",
        "          print (\"and also above 50\")\n",
        "\n",
        "        else:\n",
        "          print (\"but not above 50\")\n",
        "      else:\n",
        "        print (\"but not above 40\")\n",
        "    else:\n",
        "      print(\"but not above 230\")\n",
        "  else:\n",
        "    print (\"but not above 40.\")"
      ],
      "metadata": {
        "colab": {
          "base_uri": "https://localhost:8080/"
        },
        "id": "CprmKY39PurQ",
        "outputId": "66b070e2-dac0-419a-b7b5-595a40c8b32a"
      },
      "execution_count": null,
      "outputs": [
        {
          "output_type": "stream",
          "name": "stdout",
          "text": [
            "Above ten,\n",
            "but not above 40.\n"
          ]
        }
      ]
    },
    {
      "cell_type": "code",
      "source": [
        "x = 41\n",
        "\n",
        "if x > 10:\n",
        "  print(\"Above ten,\")\n",
        "  if x < 20:\n",
        "    print(\"and also above 20!\")\n",
        "    if x > 30:\n",
        "      print(\"and also above 30\")\n",
        "      if x > 40:\n",
        "        print(\"and also above 40\")\n",
        "        if x > 50:\n",
        "          print(\"and also above 50\")\n",
        "        else:\n",
        "          print(\"but not above 50\")\n",
        "      else:\n",
        "        print(\"but not above 40\")\n",
        "    else:\n",
        "      print(\"but not above 30\")\n",
        "  else:\n",
        "    print(\"but not above 20.\")"
      ],
      "metadata": {
        "colab": {
          "base_uri": "https://localhost:8080/"
        },
        "id": "QSmNXBs5Vm5R",
        "outputId": "0bcb7e62-86ad-48d6-f5fa-e1467102d3d3"
      },
      "execution_count": null,
      "outputs": [
        {
          "output_type": "stream",
          "name": "stdout",
          "text": [
            "Above ten,\n",
            "but not above 20.\n"
          ]
        }
      ]
    },
    {
      "cell_type": "code",
      "source": [
        "x = 41\n",
        "\n",
        "if x > 10:\n",
        "  print(\"Above 10,\")\n",
        "  if x > 20:\n",
        "    print(\"and also above 20!\")\n",
        "    if x > 30:\n",
        "      print(\"above 30\")\n",
        "      if x > 40:\n",
        "        print(\"above 40\")\n",
        "        if x > 50:\n",
        "          print(\"above 50\")\n",
        "        else:\n",
        "          print(\"not above 50\")\n",
        "      else:\n",
        "        print (\"but not above 40\")\n",
        "    else:\n",
        "      print(\"but not above 30\")\n",
        "  else:\n",
        "    print(\"but not above 20\")\n",
        "else:\n",
        "  print(\"but not above 10\")\n"
      ],
      "metadata": {
        "colab": {
          "base_uri": "https://localhost:8080/"
        },
        "id": "rSPmOZ-cWQc8",
        "outputId": "6430f14a-9b50-4684-feef-82175b8a8c82"
      },
      "execution_count": null,
      "outputs": [
        {
          "output_type": "stream",
          "name": "stdout",
          "text": [
            "Above 10,\n",
            "and also above 20!\n",
            "above 30\n",
            "above 40\n",
            "not above 50\n"
          ]
        }
      ]
    },
    {
      "cell_type": "markdown",
      "source": [
        "# Example 1"
      ],
      "metadata": {
        "id": "ZmtK-4u4YcgQ"
      }
    },
    {
      "cell_type": "code",
      "source": [
        "number = float(input(\"Enter your age: \"))\n",
        "\n",
        "if number >= 18:\n",
        "    print(\"You are an adult.\")\n",
        "else:\n",
        "    print(\"You are a minor.\")"
      ],
      "metadata": {
        "id": "oKekb2umYkoY",
        "colab": {
          "base_uri": "https://localhost:8080/"
        },
        "outputId": "953bba05-30a8-4081-f9ea-c12b60f665a5"
      },
      "execution_count": null,
      "outputs": [
        {
          "output_type": "stream",
          "name": "stdout",
          "text": [
            "Enter your age: 90\n",
            "You are an adult.\n"
          ]
        }
      ]
    },
    {
      "cell_type": "markdown",
      "source": [
        "# Example 2"
      ],
      "metadata": {
        "id": "lCzDFZT2Ydkn"
      }
    },
    {
      "cell_type": "code",
      "source": [
        "\n",
        "number = float(input(\"Enter a number: \"))\n",
        "\n",
        "if number > 0:\n",
        "    print(\"POSITIVE\")\n",
        "elif number < 0:\n",
        "    print(\"NEGATIVE\")\n",
        "else:\n",
        "    print(\"Zero\")\n"
      ],
      "metadata": {
        "colab": {
          "base_uri": "https://localhost:8080/"
        },
        "id": "ER_o2BFpYecI",
        "outputId": "1a4b3a42-b16e-4def-e43c-5ba8493d597f"
      },
      "execution_count": null,
      "outputs": [
        {
          "output_type": "stream",
          "name": "stdout",
          "text": [
            "Enter a number: 10\n",
            "POSITIVE\n"
          ]
        }
      ]
    },
    {
      "cell_type": "markdown",
      "source": [
        "# Example 3"
      ],
      "metadata": {
        "id": "njqg4gjlY6Wa"
      }
    },
    {
      "cell_type": "code",
      "source": [
        "grades = float(input(\"Enter a number: \"))\n",
        "\n",
        "if grades >= 75:\n",
        "    print(\"Congratulations! You've passed\")\n",
        "elif grades == 74:\n",
        "    print(\"You will take the remedial\")\n",
        "else:\n",
        "    print(\"Zero\")"
      ],
      "metadata": {
        "id": "pBV5TSiAajPz",
        "colab": {
          "base_uri": "https://localhost:8080/"
        },
        "outputId": "a88569d7-b4f0-4841-c652-1650c3b5428c"
      },
      "execution_count": null,
      "outputs": [
        {
          "output_type": "stream",
          "name": "stdout",
          "text": [
            "Enter a number: 69\n",
            "Zero\n"
          ]
        }
      ]
    }
  ]
}