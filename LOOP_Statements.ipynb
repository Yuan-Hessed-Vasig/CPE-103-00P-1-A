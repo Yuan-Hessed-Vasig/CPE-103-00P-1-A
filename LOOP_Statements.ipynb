{
  "nbformat": 4,
  "nbformat_minor": 0,
  "metadata": {
    "colab": {
      "provenance": [],
      "authorship_tag": "ABX9TyPJibkXaHBj8PA8zT/dOkgi",
      "include_colab_link": true
    },
    "kernelspec": {
      "name": "python3",
      "display_name": "Python 3"
    },
    "language_info": {
      "name": "python"
    }
  },
  "cells": [
    {
      "cell_type": "markdown",
      "metadata": {
        "id": "view-in-github",
        "colab_type": "text"
      },
      "source": [
        "<a href=\"https://colab.research.google.com/github/Yuan-Hessed-Vasig/CPE-103-00P-1-A/blob/main/LOOP_Statements.ipynb\" target=\"_parent\"><img src=\"https://colab.research.google.com/assets/colab-badge.svg\" alt=\"Open In Colab\"/></a>"
      ]
    },
    {
      "cell_type": "markdown",
      "source": [
        "# For Loop"
      ],
      "metadata": {
        "id": "TbsJH4rZ09wM"
      }
    },
    {
      "cell_type": "code",
      "execution_count": 75,
      "metadata": {
        "colab": {
          "base_uri": "https://localhost:8080/"
        },
        "id": "j8A-Iqkc0tvs",
        "outputId": "3528f792-0e67-4c76-9b1d-b899e12ad547"
      },
      "outputs": [
        {
          "output_type": "stream",
          "name": "stdout",
          "text": [
            "Sunday\n",
            "Monday\n",
            "Tuesday\n",
            "Wednesday\n",
            "Thursday\n"
          ]
        }
      ],
      "source": [
        "# Example 2\n",
        "week = [\"Sunday\", \"Monday\", \"Tuesday\", \"Wednesday\", \"Thursday\", \"Friday\", \"Saturday\"]\n",
        "\n",
        "for x in week:\n",
        "    print(x)\n",
        "    if x == \"Thursday\":\n",
        "        break"
      ]
    },
    {
      "cell_type": "code",
      "source": [
        "# Example 4\n",
        "\n",
        "for x in \"week\":\n",
        "   print(x)"
      ],
      "metadata": {
        "id": "xH7LgBl02mBX",
        "colab": {
          "base_uri": "https://localhost:8080/"
        },
        "outputId": "a6632d6d-e85b-447e-9e9c-05e38c589e1a"
      },
      "execution_count": 8,
      "outputs": [
        {
          "output_type": "stream",
          "name": "stdout",
          "text": [
            "w\n",
            "e\n",
            "e\n",
            "k\n"
          ]
        }
      ]
    },
    {
      "cell_type": "markdown",
      "source": [
        "# The range() Function"
      ],
      "metadata": {
        "id": "b4LFQHqa3zMk"
      }
    },
    {
      "cell_type": "code",
      "source": [
        "# Example\n",
        "\n",
        "for x in range(6):\n",
        "  print(x)\n",
        "\n",
        "for x in range(2, 6):\n",
        "  print(x)"
      ],
      "metadata": {
        "id": "DLXcPL7h3120",
        "colab": {
          "base_uri": "https://localhost:8080/"
        },
        "outputId": "7fce89a7-8d5a-463e-8f68-deccc04cc48f"
      },
      "execution_count": 6,
      "outputs": [
        {
          "output_type": "stream",
          "name": "stdout",
          "text": [
            "0\n",
            "1\n",
            "2\n",
            "3\n",
            "4\n",
            "5\n",
            "2\n",
            "3\n",
            "4\n",
            "5\n"
          ]
        }
      ]
    },
    {
      "cell_type": "markdown",
      "source": [
        "# Nested Loops"
      ],
      "metadata": {
        "id": "xFcAmEgx7Ycz"
      }
    },
    {
      "cell_type": "code",
      "source": [
        "adjective = [\"red\", \"big\", \"tasty\"]\n",
        "fruits =  [\"apple\", \"banana\", \"cherry\"]\n",
        "\n",
        "for x in adjective:\n",
        "  for y in fruits:\n",
        "    print(x, y)"
      ],
      "metadata": {
        "colab": {
          "base_uri": "https://localhost:8080/"
        },
        "id": "LmzwX6td7fyr",
        "outputId": "2c4f8090-e4ec-4891-fdf3-1b61c150e520"
      },
      "execution_count": 9,
      "outputs": [
        {
          "output_type": "stream",
          "name": "stdout",
          "text": [
            "red apple\n",
            "red banana\n",
            "red cherry\n",
            "big apple\n",
            "big banana\n",
            "big cherry\n",
            "tasty apple\n",
            "tasty banana\n",
            "tasty cherry\n"
          ]
        }
      ]
    },
    {
      "cell_type": "markdown",
      "source": [
        "# Python of While Statement"
      ],
      "metadata": {
        "id": "5atZOVYx7pTL"
      }
    },
    {
      "cell_type": "code",
      "source": [
        "i = 1\n",
        "while i < 6:\n",
        "  print(i)\n",
        "  i += 1"
      ],
      "metadata": {
        "colab": {
          "base_uri": "https://localhost:8080/"
        },
        "id": "Yf0E82LZ7tAa",
        "outputId": "2a7d3d9b-8852-4fc7-fad6-a7856bdef907"
      },
      "execution_count": 11,
      "outputs": [
        {
          "output_type": "stream",
          "name": "stdout",
          "text": [
            "1\n",
            "2\n",
            "3\n",
            "4\n",
            "5\n"
          ]
        }
      ]
    },
    {
      "cell_type": "markdown",
      "source": [
        "# The Break Statement"
      ],
      "metadata": {
        "id": "wWa_bipB708y"
      }
    },
    {
      "cell_type": "code",
      "source": [
        "i = 1\n",
        "while i < 6:\n",
        "  print(i)\n",
        "  if i == 3:\n",
        "    break\n",
        "  i+=1"
      ],
      "metadata": {
        "colab": {
          "base_uri": "https://localhost:8080/"
        },
        "id": "29ivLaiU7z8p",
        "outputId": "bb671414-21cf-4dd7-c6de-8da95feae667"
      },
      "execution_count": 18,
      "outputs": [
        {
          "output_type": "stream",
          "name": "stdout",
          "text": [
            "1\n",
            "2\n",
            "3\n"
          ]
        }
      ]
    },
    {
      "cell_type": "markdown",
      "source": [
        "# Continue Statement"
      ],
      "metadata": {
        "id": "Z82cw16k8ooy"
      }
    },
    {
      "cell_type": "code",
      "source": [
        "i = 0\n",
        "while i <= 6:\n",
        "    i += 1\n",
        "    if i == 3:\n",
        "        continue\n",
        "    if i == 6:\n",
        "        break\n",
        "\n",
        "    print(\"number\", i)"
      ],
      "metadata": {
        "colab": {
          "base_uri": "https://localhost:8080/"
        },
        "id": "gkpnQGwE8JhT",
        "outputId": "10023a94-bfb6-4715-d12f-e3e304f0b848"
      },
      "execution_count": 41,
      "outputs": [
        {
          "output_type": "stream",
          "name": "stdout",
          "text": [
            "number 1\n",
            "number 2\n",
            "number 4\n",
            "number 5\n"
          ]
        }
      ]
    },
    {
      "cell_type": "code",
      "source": [
        "i = -1\n",
        "while i <= 6:\n",
        "    i += 1\n",
        "    if i == 3:\n",
        "        continue\n",
        "    if i == 6:\n",
        "        break\n",
        "\n",
        "    print(\"number\", i)"
      ],
      "metadata": {
        "id": "Ar6oB_4G9Muk"
      },
      "execution_count": null,
      "outputs": []
    },
    {
      "cell_type": "markdown",
      "source": [
        "Else Statement"
      ],
      "metadata": {
        "id": "3jKXjhPbBys7"
      }
    },
    {
      "cell_type": "code",
      "source": [
        "i = 1\n",
        "while i < 6:\n",
        "  print(i)\n",
        "  i += 1\n",
        "else:\n",
        "  print(\"i is no longer less than 6\")"
      ],
      "metadata": {
        "colab": {
          "base_uri": "https://localhost:8080/"
        },
        "id": "LpInB7TxB0QD",
        "outputId": "4535c043-0af9-41fd-fffa-31804f57fdd0"
      },
      "execution_count": 47,
      "outputs": [
        {
          "output_type": "stream",
          "name": "stdout",
          "text": [
            "1\n",
            "2\n",
            "3\n",
            "4\n",
            "5\n",
            "i is no longer less than 6\n"
          ]
        }
      ]
    },
    {
      "cell_type": "markdown",
      "source": [
        "Application 1"
      ],
      "metadata": {
        "id": "TfnRdFtaCUXj"
      }
    },
    {
      "cell_type": "code",
      "source": [
        "i = -1\n",
        "while i < 10:\n",
        "    i += 1\n",
        "    if i == 11:\n",
        "        break\n",
        "\n",
        "    print(\"Hello\", i)"
      ],
      "metadata": {
        "colab": {
          "base_uri": "https://localhost:8080/"
        },
        "id": "R9wxE_29CluL",
        "outputId": "24afb6a9-4fbc-4d0a-a476-f39130830d46"
      },
      "execution_count": 71,
      "outputs": [
        {
          "output_type": "stream",
          "name": "stdout",
          "text": [
            "Hello 0\n",
            "Hello 1\n",
            "Hello 2\n",
            "Hello 3\n",
            "Hello 4\n",
            "Hello 5\n",
            "Hello 6\n",
            "Hello 7\n",
            "Hello 8\n",
            "Hello 9\n",
            "Hello 10\n"
          ]
        }
      ]
    },
    {
      "cell_type": "code",
      "source": [],
      "metadata": {
        "id": "htjstA2DDs1z"
      },
      "execution_count": null,
      "outputs": []
    },
    {
      "cell_type": "markdown",
      "source": [
        "# Practical Test"
      ],
      "metadata": {
        "id": "I6IG2b11OD87"
      }
    },
    {
      "cell_type": "markdown",
      "source": [
        "Create a python program that displays integers less than 10 but not less than 3"
      ],
      "metadata": {
        "id": "8nA5VhMVOqPk"
      }
    },
    {
      "cell_type": "code",
      "source": [
        "i = 2\n",
        "while i < 9:\n",
        "    i += 1\n",
        "    if i == 11:\n",
        "        break\n",
        "\n",
        "    print(i)"
      ],
      "metadata": {
        "colab": {
          "base_uri": "https://localhost:8080/"
        },
        "id": "NidgbcO7OylE",
        "outputId": "227608b0-9b43-44b4-ce6f-ebc5383c6528"
      },
      "execution_count": 74,
      "outputs": [
        {
          "output_type": "stream",
          "name": "stdout",
          "text": [
            "3\n",
            "4\n",
            "5\n",
            "6\n",
            "7\n",
            "8\n",
            "9\n"
          ]
        }
      ]
    }
  ]
}