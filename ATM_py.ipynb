{
  "nbformat": 4,
  "nbformat_minor": 0,
  "metadata": {
    "colab": {
      "provenance": [],
      "authorship_tag": "ABX9TyNJcksiZa4z+7ORS+mv9oHu",
      "include_colab_link": true
    },
    "kernelspec": {
      "name": "python3",
      "display_name": "Python 3"
    },
    "language_info": {
      "name": "python"
    }
  },
  "cells": [
    {
      "cell_type": "markdown",
      "metadata": {
        "id": "view-in-github",
        "colab_type": "text"
      },
      "source": [
        "<a href=\"https://colab.research.google.com/github/Yuan-Hessed-Vasig/CPE-103-00P-1-A/blob/main/ATM_py.ipynb\" target=\"_parent\"><img src=\"https://colab.research.google.com/assets/colab-badge.svg\" alt=\"Open In Colab\"/></a>"
      ]
    },
    {
      "cell_type": "code",
      "execution_count": null,
      "metadata": {
        "id": "wkG2paSunOgk"
      },
      "outputs": [],
      "source": [
        "\"\"\"\n",
        "    ATM.py\n",
        "\"\"\"\n",
        "\n",
        "class ATM:\n",
        "    serial_number = 0\n",
        "    transaction = []\n",
        "\n",
        "    def __init__(self, serial_number=None):\n",
        "        if serial_number is None:\n",
        "            ATM.serial_number ++ 1\n",
        "            self.serial_number = ATM.serial_number + 1\n",
        "        else:\n",
        "            self.serial_number = serial_number\n",
        "            ATM.serial_number = self.serial_number\n",
        "\n",
        "    def deposit(self, account, amount):\n",
        "        account.current_balance += amount\n",
        "        self.transaction.append(f\"Deposit: {amount} to Account {account.account_number}\")\n",
        "        print(\"Deposit Complete\")\n",
        "\n",
        "    def withdraw(self, account, amount):\n",
        "        if account.current_balance >= amount:\n",
        "            account.current_balance -= amount\n",
        "            self.transaction.append(f\"Withdraw: {amount} from Account {account.account_number}\")\n",
        "            print(\"Withdraw Complete\")\n",
        "        else:\n",
        "            print (\"Insufficient Balance\")\n",
        "\n",
        "    def check_current_balance(self, account):\n",
        "      print(f\"Current Balance: {account.current_balance}\")\n",
        "\n",
        "    def view_transaction_summary(self):\n",
        "        print(\"\\nTransaction Summary:\")\n",
        "        for transaction in self.transaction:\n",
        "            print(transaction)"
      ]
    }
  ]
}