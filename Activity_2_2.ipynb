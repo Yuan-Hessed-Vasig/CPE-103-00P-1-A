{
  "cells": [
    {
      "cell_type": "markdown",
      "metadata": {
        "id": "view-in-github",
        "colab_type": "text"
      },
      "source": [
        "<a href=\"https://colab.research.google.com/github/Yuan-Hessed-Vasig/CPE-103-00P-1-A/blob/main/Activity_2_2.ipynb\" target=\"_parent\"><img src=\"https://colab.research.google.com/assets/colab-badge.svg\" alt=\"Open In Colab\"/></a>"
      ]
    },
    {
      "cell_type": "markdown",
      "metadata": {
        "id": "xUKw6dtiGo-r"
      },
      "source": [
        "---\n",
        "<center>\n",
        "\n",
        "**University of Caloocan City**<br>\n",
        "Computer Engineering Department<br>\n",
        "Bagong Silang Campus</center>\n",
        "\n",
        "---\n",
        "<center><h4> Activity No. 2.2 - Literals, Operators, and Variables-Supplementary Activity</h4></center>\n",
        "\n",
        "---\n",
        "<center>\n",
        "\n",
        "| Course: CPE 103 | Program: BSCpE |\n",
        "|--- | --- |\n",
        "| **Course Title**: Object Oriented Programming | **Date Performed: 01/02/2025** |\n",
        "| **Section**: 1-A | **Date Submitted:** 01/02/2025 |\n",
        "| **Student Name**: Yuan Hessed O. Vasig | **Instructor's Name:** Engr. Maria Rizette H. Sayo|\n",
        "</center>"
      ]
    },
    {
      "cell_type": "markdown",
      "source": [
        "# **Objective**"
      ],
      "metadata": {
        "id": "u9DMPcFOdMqh"
      }
    },
    {
      "cell_type": "markdown",
      "source": [
        "1.   Implement literals and variables in a python program.\n",
        " **Intended Learning Outcome:**\n",
        "\n",
        "1.   Write a simple program implementing literals and variables.\n",
        "2.   Use comments and identify keywords from identifiers created by users.\n"
      ],
      "metadata": {
        "id": "c495eaSsdjVZ"
      }
    },
    {
      "cell_type": "markdown",
      "source": [
        "# **Materials and Equipment**\n"
      ],
      "metadata": {
        "id": "6Nt6akaMduEw"
      }
    },
    {
      "cell_type": "markdown",
      "source": [
        "1.   Computer\n",
        "2.   Windows 11\n",
        "3.   Python Programming Language\n",
        "4.   Google Colab\n",
        "5.   Github"
      ],
      "metadata": {
        "id": "uU_5axGkdwUh"
      }
    },
    {
      "cell_type": "markdown",
      "source": [
        "# **Discussion**"
      ],
      "metadata": {
        "id": "sBoBB85Ed39Z"
      }
    },
    {
      "cell_type": "markdown",
      "source": [
        "1.\tDiscuss the use of variables, constants and literals in a python program."
      ],
      "metadata": {
        "id": "i8xHk8tJd8Fp"
      }
    },
    {
      "cell_type": "markdown",
      "source": [
        "\n",
        "# **Procedure:**\n",
        "\n"
      ],
      "metadata": {
        "id": "gNe4D_l5JGiM"
      }
    },
    {
      "cell_type": "markdown",
      "source": [
        "1. Create a Python program to calculate student grades based on Prelim, Midterm, and Final exams, including Class Standing and activities.\n",
        "Key Concepts:\n",
        "\n",
        "- Variables store data (grades).\n",
        "- Constants hold fixed values (percentages for weights).\n",
        "- Literals are values used directly in the code (e.g., 50, 0.50).\n",
        "\n",
        "2. Get inputs: exam scores and class standing for Prelim, Midterm, and Final.\n",
        "Calculate Prelim, Midterm, and Final grades using the formulas provided.\n",
        "Output the grades and the final numerical grade based on UCC grading system."
      ],
      "metadata": {
        "id": "BbfmTK-oejLy"
      }
    },
    {
      "cell_type": "markdown",
      "source": [
        "Input"
      ],
      "metadata": {
        "id": "AA6nmAHwTw_x"
      }
    },
    {
      "cell_type": "code",
      "source": [
        "# Student Info\n",
        "name = input(\"Enter your name (Last name, First name Middle): \")\n",
        "section = input(\"Enter your section: \")"
      ],
      "metadata": {
        "id": "WORPHnvZKBVE",
        "collapsed": true
      },
      "execution_count": null,
      "outputs": []
    },
    {
      "cell_type": "code",
      "source": [
        "# Preliminary Grade Input\n",
        "assignment = float(input(\"Enter Assignment Grade in Average (0-100): \"))\n",
        "hands_on_activity = float(input(\"Enter Hands on Activity Grade in Average (0-100): \"))\n",
        "quiz = float(input(\"Enter Quiz Grade in Average (0-100): \"))\n",
        "prelim_exam = float(input(\"Enter Prelim Exam in Average (0-100): \"))"
      ],
      "metadata": {
        "id": "CVhyPuplUGER"
      },
      "execution_count": null,
      "outputs": []
    },
    {
      "cell_type": "code",
      "source": [
        "# Midterm Grade Input\n",
        "assignment = float(input(\"Enter Assignment Grade in Average (0-100): \"))\n",
        "hands_on_activity = float(input(\"Enter Hands on Activity Grade in Average (0-100): \"))\n",
        "midterm_exam = float(input(\"Enter Midterm Exam Grade in Average (0-100): \"))\n",
        "quiz = float(input(\"Enter Quiz Grade in Average (0-100): \"))\n"
      ],
      "metadata": {
        "id": "878T-oOGUlwJ"
      },
      "execution_count": null,
      "outputs": []
    },
    {
      "cell_type": "code",
      "source": [
        "#Final Grade Input\n",
        "assignment = float(input(\"Enter Assignment Grade in Average (0-100): \"))\n",
        "hands_on_activity = float(input(\"Enter Hands on Activity Grade in Average (0-100): \"))\n",
        "final_exam = float(input(\"Enter Final Exam Grade in Average (0-100): \"))\n",
        "quiz = float(input(\"Enter Quiz Grade in Average (0-100): \"))\n"
      ],
      "metadata": {
        "id": "unLt5v1kUxiB"
      },
      "execution_count": null,
      "outputs": []
    },
    {
      "cell_type": "markdown",
      "source": [
        "# **Supplementary Activity**\n",
        "\n"
      ],
      "metadata": {
        "id": "bV8A708BKFuC"
      }
    },
    {
      "cell_type": "markdown",
      "source": [
        "1. Test 3 students from the program you created.\n",
        "2. The program should show the name of the student, the PRELIM, MIDTERM and FINAL grades.\n",
        "3. Convert the final grade into the UCCs numerical grade. Please refer to the grading system.\n"
      ],
      "metadata": {
        "id": "EWsu1HmAeLHB"
      }
    },
    {
      "cell_type": "markdown",
      "source": [
        "\n",
        "# **Questions**\n"
      ],
      "metadata": {
        "id": "0CYvOMNPKNEq"
      }
    },
    {
      "cell_type": "markdown",
      "source": [
        "1.   List item\n",
        "2.   List item"
      ],
      "metadata": {
        "id": "vpqd4D2feI-p"
      }
    },
    {
      "cell_type": "markdown",
      "source": [
        "# **Conclusion**\n"
      ],
      "metadata": {
        "id": "f8oM9wqYKuO1"
      }
    },
    {
      "cell_type": "markdown",
      "source": [
        "In conclusion, this program successfully creates a functional grading system by utilizing fundamental programming principles including function definitions, conditional statements, and mathematical operations. The program's readability and maintainability are enhanced by its modular function structure, which makes future adjustments simpler. The application also emphasizes how crucial it is to handle user input and display output in a proper manner. Indeed, considering all this, this exercise has enhanced our ability of creating well-structured and useful programs by providing with extremely practical expertise in Python programming."
      ],
      "metadata": {
        "id": "GniUvqVJeENx"
      }
    },
    {
      "cell_type": "markdown",
      "source": [
        "# Code\n"
      ],
      "metadata": {
        "id": "mGGsqMIvdG4Z"
      }
    },
    {
      "cell_type": "code",
      "source": [
        "# STUDENT 1\n",
        "def convert_to_numerical_grade(final_grade):\n",
        "\n",
        "    #Converts the final grade (out of 100) to the University of Caloocan City's numerical grading system\n",
        "\n",
        "\n",
        "    if final_grade >= 99:\n",
        "        return 1.00\n",
        "    elif final_grade >= 96:\n",
        "        return 1.25\n",
        "    elif final_grade >= 93:\n",
        "        return 1.50\n",
        "    elif final_grade >= 90:\n",
        "        return 1.75\n",
        "    elif final_grade >= 87:\n",
        "        return 2.00\n",
        "    elif final_grade >= 84: #Used If-Statement to Determine the Numerical Grading System\n",
        "        return 2.25\n",
        "    elif final_grade >= 81:\n",
        "        return 2.50\n",
        "    elif final_grade >= 78:\n",
        "        return 2.75\n",
        "    elif final_grade >= 75:\n",
        "        return 3.00\n",
        "    elif final_grade >= 72:\n",
        "        return 4.00\n",
        "    else:\n",
        "        return 5.00\n",
        "\n",
        "\n",
        "# Calculates the Prelim Grade by combining Prelim Exam and Prelim Class Standing (CS).\n",
        "def calculate_prelim_grade(prelim_exam, prelim_cs):\n",
        "\n",
        "    return (0.50 * prelim_exam + 0.50 * prelim_cs)\n",
        "\n",
        "# General function to calculate class standing (Prelim, Midterm, or Final)\n",
        "def calculate_class_standing(hands_on_activity, quiz, assignment):\n",
        "\n",
        "    return (0.50 * hands_on_activity + 0.30 * quiz + 0.20 * assignment)\n",
        "\n",
        "# Calculates the Midterm Grade by combining Prelim Grade, Midterm Exam, and Midterm Class Standing (CS).\n",
        "def calculate_midterm_grade(prelim_grade, midterm_exam, midterm_cs):\n",
        "\n",
        "    midterm_exam_cs = (0.50 * midterm_exam) + (0.50 * midterm_cs)\n",
        "    return (1 / 3 * prelim_grade) + (2 / 3 * midterm_exam_cs)\n",
        "\n",
        "# Calculates the Final Grade by combining Midterm Grade, Final Exam, and Final Class Standing (CS).\n",
        "def calculate_final_grade(midterm_grade, final_exam, final_cs):\n",
        "\n",
        "    final_exam_cs = (0.50 * final_exam) + (0.50 * final_cs)\n",
        "    return (1 / 3 * midterm_grade) + (2 / 3 * final_exam_cs)\n",
        "\n",
        "# Calculates the General Weighted Average (GWA) based on the Prelim, Midterm, and Final grades.\n",
        "def calculate_general_weighted_average(prelim_grade, midterm_grade, final_grade):\n",
        "\n",
        "    return (1 / 3 * prelim_grade) + (1 / 3 * midterm_grade) + (1 / 3 * final_grade)\n",
        "\n",
        "# The main function collects the user's inputs for scores and calculates the final grade.\n",
        "def main():\n",
        "\n",
        "    print(\"\\n ---STUDENT INFORMATION--- \\n\")\n",
        "    name = input(\"Enter your name (Last name, First name Middle): \") #Input the Student Information\n",
        "    section = input(\"Enter your section: \")\n",
        "\n",
        "    # Prelim scores input\n",
        "    print(\"\\n --- PRELIMINARY SCORES --- \\n\")\n",
        "    assignment = float(input(\"Enter Assignment Grade in Average (0-100): \"))\n",
        "    hands_on_activity = float(input(\"Enter Hands on Activity Grade in Average (0-100): \"))\n",
        "    quiz = float(input(\"Enter Quiz Grade in Average (0-100): \"))\n",
        "    prelim_exam = float(input(\"Enter Prelim Exam in Average (0-100): \"))\n",
        "\n",
        "    prelim_cs = calculate_class_standing(hands_on_activity, quiz, assignment)\n",
        "    prelim_grade = calculate_prelim_grade(prelim_exam, prelim_cs)\n",
        "\n",
        "    # Midterm scores input\n",
        "    print(\"\\n --- MIDTERM SCORES --- \\n\")\n",
        "    assignment = float(input(\"Enter Assignment Grade in Average (0-100): \"))\n",
        "    hands_on_activity = float(input(\"Enter Hands on Activity Grade in Average (0-100): \"))\n",
        "    midterm_exam = float(input(\"Enter Midterm Exam Grade in Average (0-100): \"))\n",
        "    quiz = float(input(\"Enter Quiz Grade in Average (0-100): \"))\n",
        "\n",
        "    midterm_cs = calculate_class_standing(hands_on_activity, quiz, assignment)\n",
        "    midterm_grade = calculate_midterm_grade(prelim_grade, midterm_exam, midterm_cs)\n",
        "\n",
        "    # Final scores input\n",
        "    print(\"\\n --- FINAL SCORES --- \\n\")\n",
        "    assignment = float(input(\"Enter Assignment Grade in Average (0-100): \"))\n",
        "    hands_on_activity = float(input(\"Enter Hands on Activity Grade in Average (0-100): \"))\n",
        "    final_exam = float(input(\"Enter Final Exam Grade in Average (0-100): \"))\n",
        "    quiz = float(input(\"Enter Quiz Grade in Average (0-100): \"))\n",
        "\n",
        "    final_cs = calculate_class_standing(hands_on_activity, quiz, assignment)\n",
        "    final_grade = calculate_final_grade(midterm_grade, final_exam, final_cs)\n",
        "\n",
        "    # Convert to numerical grade\n",
        "    numerical_grade = convert_to_numerical_grade(final_grade)\n",
        "\n",
        "    # The results of the Data\n",
        "    print(\"\\n --- RESULTS --- \\n\")\n",
        "    print(f\"\\nName: {name}\")\n",
        "    print(f\"Section: {section}\")\n",
        "    print(f\"Prelim Grade: {prelim_grade:.2f}\")\n",
        "    print(f\"Midterm Grade: {midterm_grade:.2f}\")\n",
        "    print(f\"Final Grade: {final_grade:.2f}\")\n",
        "    print(f\"General Weighted Average: {calculate_general_weighted_average(prelim_grade, midterm_grade, final_grade):.2f}\")\n",
        "    print(f\"Final Numerical Grade: {numerical_grade:.2f}\")\n",
        "\n",
        "\n",
        "main()\n"
      ],
      "metadata": {
        "colab": {
          "base_uri": "https://localhost:8080/"
        },
        "id": "NHscsOjtxAtB",
        "outputId": "acc5f98f-39db-4005-d481-b2e296647229"
      },
      "execution_count": 14,
      "outputs": [
        {
          "output_type": "stream",
          "name": "stdout",
          "text": [
            "\n",
            " ---STUDENT INFORMATION--- \n",
            "\n",
            "Enter your name (Last name, First name Middle): Vasig, Yuan Hessed O.\n",
            "Enter your section: BSCpE 1-A\n",
            "\n",
            " --- PRELIMINARY SCORES --- \n",
            "\n",
            "Enter Assignment Grade in Average (0-100): 91\n",
            "Enter Hands on Activity Grade in Average (0-100): 93\n",
            "Enter Quiz Grade in Average (0-100): 89\n",
            "Enter Prelim Exam in Average (0-100): 90\n",
            "\n",
            " --- MIDTERM SCORES --- \n",
            "\n",
            "Enter Assignment Grade in Average (0-100): 91\n",
            "Enter Hands on Activity Grade in Average (0-100): 90\n",
            "Enter Midterm Exam Grade in Average (0-100): 89\n",
            "Enter Quiz Grade in Average (0-100): 92\n",
            "\n",
            " --- FINAL SCORES --- \n",
            "\n",
            "Enter Assignment Grade in Average (0-100): 87\n",
            "Enter Hands on Activity Grade in Average (0-100): 91\n",
            "Enter Final Exam Grade in Average (0-100): 90\n",
            "Enter Quiz Grade in Average (0-100): 95\n",
            "\n",
            " --- RESULTS --- \n",
            "\n",
            "\n",
            "Name: Vasig, Yuan Hessed O.\n",
            "Section: BSCpE 1-A\n",
            "Prelim Grade: 90.70\n",
            "Midterm Grade: 90.17\n",
            "Final Grade: 90.52\n",
            "General Weighted Average: 90.46\n",
            "Final Numerical Grade: 1.75\n"
          ]
        }
      ]
    },
    {
      "cell_type": "code",
      "source": [
        "# STUDENT 2\n",
        "def convert_to_numerical_grade(final_grade):\n",
        "\n",
        "    #Converts the final grade (out of 100) to the University of Caloocan City's numerical grading system\n",
        "\n",
        "\n",
        "    if final_grade >= 99:\n",
        "        return 1.00\n",
        "    elif final_grade >= 96:\n",
        "        return 1.25\n",
        "    elif final_grade >= 93:\n",
        "        return 1.50\n",
        "    elif final_grade >= 90:\n",
        "        return 1.75\n",
        "    elif final_grade >= 87:\n",
        "        return 2.00\n",
        "    elif final_grade >= 84: #Used If-Statement to Determine the Numerical Grading System\n",
        "        return 2.25\n",
        "    elif final_grade >= 81:\n",
        "        return 2.50\n",
        "    elif final_grade >= 78:\n",
        "        return 2.75\n",
        "    elif final_grade >= 75:\n",
        "        return 3.00\n",
        "    elif final_grade >= 72:\n",
        "        return 4.00\n",
        "    else:\n",
        "        return 5.00\n",
        "\n",
        "\n",
        "# Calculates the Prelim Grade by combining Prelim Exam and Prelim Class Standing (CS).\n",
        "def calculate_prelim_grade(prelim_exam, prelim_cs):\n",
        "\n",
        "    return (0.50 * prelim_exam + 0.50 * prelim_cs)\n",
        "\n",
        "# General function to calculate class standing (Prelim, Midterm, or Final)\n",
        "def calculate_class_standing(hands_on_activity, quiz, assignment):\n",
        "\n",
        "    return (0.50 * hands_on_activity + 0.30 * quiz + 0.20 * assignment)\n",
        "\n",
        "# Calculates the Midterm Grade by combining Prelim Grade, Midterm Exam, and Midterm Class Standing (CS).\n",
        "def calculate_midterm_grade(prelim_grade, midterm_exam, midterm_cs):\n",
        "\n",
        "    midterm_exam_cs = (0.50 * midterm_exam) + (0.50 * midterm_cs)\n",
        "    return (1 / 3 * prelim_grade) + (2 / 3 * midterm_exam_cs)\n",
        "\n",
        "# Calculates the Final Grade by combining Midterm Grade, Final Exam, and Final Class Standing (CS).\n",
        "def calculate_final_grade(midterm_grade, final_exam, final_cs):\n",
        "\n",
        "    final_exam_cs = (0.50 * final_exam) + (0.50 * final_cs)\n",
        "    return (1 / 3 * midterm_grade) + (2 / 3 * final_exam_cs)\n",
        "\n",
        "# Calculates the General Weighted Average (GWA) based on the Prelim, Midterm, and Final grades.\n",
        "def calculate_general_weighted_average(prelim_grade, midterm_grade, final_grade):\n",
        "\n",
        "    return (1 / 3 * prelim_grade) + (1 / 3 * midterm_grade) + (1 / 3 * final_grade)\n",
        "\n",
        "# The main function collects the user's inputs for scores and calculates the final grade.\n",
        "def main():\n",
        "\n",
        "    print(\"\\n ---STUDENT INFORMATION--- \\n\")\n",
        "    name = input(\"Enter your name (Last name, First name Middle): \") #Input the Student Information\n",
        "    section = input(\"Enter your section: \")\n",
        "\n",
        "    # Prelim scores input\n",
        "    print(\"\\n --- PRELIMINARY SCORES --- \\n\")\n",
        "    assignment = float(input(\"Enter Assignment Grade in Average (0-100): \"))\n",
        "    hands_on_activity = float(input(\"Enter Hands on Activity Grade in Average (0-100): \"))\n",
        "    quiz = float(input(\"Enter Quiz Grade in Average (0-100): \"))\n",
        "    prelim_exam = float(input(\"Enter Prelim Exam in Average (0-100): \"))\n",
        "\n",
        "    prelim_cs = calculate_class_standing(hands_on_activity, quiz, assignment)\n",
        "    prelim_grade = calculate_prelim_grade(prelim_exam, prelim_cs)\n",
        "\n",
        "    # Midterm scores input\n",
        "    print(\"\\n --- MIDTERM SCORES --- \\n\")\n",
        "    assignment = float(input(\"Enter Assignment Grade in Average (0-100): \"))\n",
        "    hands_on_activity = float(input(\"Enter Hands on Activity Grade in Average (0-100): \"))\n",
        "    midterm_exam = float(input(\"Enter Midterm Exam Grade in Average (0-100): \"))\n",
        "    quiz = float(input(\"Enter Quiz Grade in Average (0-100): \"))\n",
        "\n",
        "    midterm_cs = calculate_class_standing(hands_on_activity, quiz, assignment)\n",
        "    midterm_grade = calculate_midterm_grade(prelim_grade, midterm_exam, midterm_cs)\n",
        "\n",
        "    # Final scores input\n",
        "    print(\"\\n --- FINAL SCORES --- \\n\")\n",
        "    assignment = float(input(\"Enter Assignment Grade in Average (0-100): \"))\n",
        "    hands_on_activity = float(input(\"Enter Hands on Activity Grade in Average (0-100): \"))\n",
        "    final_exam = float(input(\"Enter Final Exam Grade in Average (0-100): \"))\n",
        "    quiz = float(input(\"Enter Quiz Grade in Average (0-100): \"))\n",
        "\n",
        "    final_cs = calculate_class_standing(hands_on_activity, quiz, assignment)\n",
        "    final_grade = calculate_final_grade(midterm_grade, final_exam, final_cs)\n",
        "\n",
        "    # Convert to numerical grade\n",
        "    numerical_grade = convert_to_numerical_grade(final_grade)\n",
        "\n",
        "    # The results of the Data\n",
        "    print(\"\\n --- RESULTS --- \\n\")\n",
        "    print(f\"\\nName: {name}\")\n",
        "    print(f\"Section: {section}\")\n",
        "    print(f\"Prelim Grade: {prelim_grade:.2f}\")\n",
        "    print(f\"Midterm Grade: {midterm_grade:.2f}\")\n",
        "    print(f\"Final Grade: {final_grade:.2f}\")\n",
        "    print(f\"General Weighted Average: {calculate_general_weighted_average(prelim_grade, midterm_grade, final_grade):.2f}\")\n",
        "    print(f\"Final Numerical Grade: {numerical_grade:.2f}\")\n",
        "\n",
        "\n",
        "main()\n"
      ],
      "metadata": {
        "colab": {
          "base_uri": "https://localhost:8080/"
        },
        "id": "8eexJhTEWhwp",
        "outputId": "be16af20-ec96-47e0-ca62-e13d1861c24e"
      },
      "execution_count": 15,
      "outputs": [
        {
          "output_type": "stream",
          "name": "stdout",
          "text": [
            "\n",
            " ---STUDENT INFORMATION--- \n",
            "\n",
            "Enter your name (Last name, First name Middle): Monoy, Justin Rhey C.\n",
            "Enter your section: BSCpE 1-A\n",
            "\n",
            " --- PRELIMINARY SCORES --- \n",
            "\n",
            "Enter Assignment Grade in Average (0-100): 92\n",
            "Enter Hands on Activity Grade in Average (0-100): 91\n",
            "Enter Quiz Grade in Average (0-100): 89\n",
            "Enter Prelim Exam in Average (0-100): 90\n",
            "\n",
            " --- MIDTERM SCORES --- \n",
            "\n",
            "Enter Assignment Grade in Average (0-100): 93\n",
            "Enter Hands on Activity Grade in Average (0-100): 91\n",
            "Enter Midterm Exam Grade in Average (0-100): 87\n",
            "Enter Quiz Grade in Average (0-100): 89\n",
            "\n",
            " --- FINAL SCORES --- \n",
            "\n",
            "Enter Assignment Grade in Average (0-100): 92\n",
            "Enter Hands on Activity Grade in Average (0-100): 91\n",
            "Enter Final Exam Grade in Average (0-100): 94\n",
            "Enter Quiz Grade in Average (0-100): 95\n",
            "\n",
            " --- RESULTS --- \n",
            "\n",
            "\n",
            "Name: Monoy, Justin Rhey C.\n",
            "Section: BSCpE 1-A\n",
            "Prelim Grade: 90.30\n",
            "Midterm Grade: 89.37\n",
            "Final Grade: 91.92\n",
            "General Weighted Average: 90.53\n",
            "Final Numerical Grade: 1.75\n"
          ]
        }
      ]
    },
    {
      "cell_type": "code",
      "source": [
        "# STUDENT 3\n",
        "\n",
        "def convert_to_numerical_grade(final_grade):\n",
        "\n",
        "    #Converts the final grade (out of 100) to the University of Caloocan City's numerical grading system\n",
        "\n",
        "\n",
        "    if final_grade >= 99:\n",
        "        return 1.00\n",
        "    elif final_grade >= 96:\n",
        "        return 1.25\n",
        "    elif final_grade >= 93:\n",
        "        return 1.50\n",
        "    elif final_grade >= 90:\n",
        "        return 1.75\n",
        "    elif final_grade >= 87:\n",
        "        return 2.00\n",
        "    elif final_grade >= 84: #Used If-Statement to Determine the Numerical Grading System\n",
        "        return 2.25\n",
        "    elif final_grade >= 81:\n",
        "        return 2.50\n",
        "    elif final_grade >= 78:\n",
        "        return 2.75\n",
        "    elif final_grade >= 75:\n",
        "        return 3.00\n",
        "    elif final_grade >= 72:\n",
        "        return 4.00\n",
        "    else:\n",
        "        return 5.00\n",
        "\n",
        "\n",
        "# Calculates the Prelim Grade by combining Prelim Exam and Prelim Class Standing (CS).\n",
        "def calculate_prelim_grade(prelim_exam, prelim_cs):\n",
        "\n",
        "    return (0.50 * prelim_exam + 0.50 * prelim_cs)\n",
        "\n",
        "# General function to calculate class standing (Prelim, Midterm, or Final)\n",
        "def calculate_class_standing(hands_on_activity, quiz, assignment):\n",
        "\n",
        "    return (0.50 * hands_on_activity + 0.30 * quiz + 0.20 * assignment)\n",
        "\n",
        "# Calculates the Midterm Grade by combining Prelim Grade, Midterm Exam, and Midterm Class Standing (CS).\n",
        "def calculate_midterm_grade(prelim_grade, midterm_exam, midterm_cs):\n",
        "\n",
        "    midterm_exam_cs = (0.50 * midterm_exam) + (0.50 * midterm_cs)\n",
        "    return (1 / 3 * prelim_grade) + (2 / 3 * midterm_exam_cs)\n",
        "\n",
        "# Calculates the Final Grade by combining Midterm Grade, Final Exam, and Final Class Standing (CS).\n",
        "def calculate_final_grade(midterm_grade, final_exam, final_cs):\n",
        "\n",
        "    final_exam_cs = (0.50 * final_exam) + (0.50 * final_cs)\n",
        "    return (1 / 3 * midterm_grade) + (2 / 3 * final_exam_cs)\n",
        "\n",
        "# Calculates the General Weighted Average (GWA) based on the Prelim, Midterm, and Final grades.\n",
        "def calculate_general_weighted_average(prelim_grade, midterm_grade, final_grade):\n",
        "\n",
        "    return (1 / 3 * prelim_grade) + (1 / 3 * midterm_grade) + (1 / 3 * final_grade)\n",
        "\n",
        "# The main function collects the user's inputs for scores and calculates the final grade.\n",
        "def main():\n",
        "\n",
        "    print(\"\\n ---STUDENT INFORMATION--- \\n\")\n",
        "    name = input(\"Enter your name (Last name, First name Middle): \") #Input the Student Information\n",
        "    section = input(\"Enter your section: \")\n",
        "\n",
        "    # Prelim scores input\n",
        "    print(\"\\n --- PRELIMINARY SCORES --- \\n\")\n",
        "    assignment = float(input(\"Enter Assignment Grade in Average (0-100): \"))\n",
        "    hands_on_activity = float(input(\"Enter Hands on Activity Grade in Average (0-100): \"))\n",
        "    quiz = float(input(\"Enter Quiz Grade in Average (0-100): \"))\n",
        "    prelim_exam = float(input(\"Enter Prelim Exam in Average (0-100): \"))\n",
        "\n",
        "    prelim_cs = calculate_class_standing(hands_on_activity, quiz, assignment)\n",
        "    prelim_grade = calculate_prelim_grade(prelim_exam, prelim_cs)\n",
        "\n",
        "    # Midterm scores input\n",
        "    print(\"\\n --- MIDTERM SCORES --- \\n\")\n",
        "    assignment = float(input(\"Enter Assignment Grade in Average (0-100): \"))\n",
        "    hands_on_activity = float(input(\"Enter Hands on Activity Grade in Average (0-100): \"))\n",
        "    midterm_exam = float(input(\"Enter Midterm Exam Grade in Average (0-100): \"))\n",
        "    quiz = float(input(\"Enter Quiz Grade in Average (0-100): \"))\n",
        "\n",
        "    midterm_cs = calculate_class_standing(hands_on_activity, quiz, assignment)\n",
        "    midterm_grade = calculate_midterm_grade(prelim_grade, midterm_exam, midterm_cs)\n",
        "\n",
        "    # Final scores input\n",
        "    print(\"\\n --- FINAL SCORES --- \\n\")\n",
        "    assignment = float(input(\"Enter Assignment Grade in Average (0-100): \"))\n",
        "    hands_on_activity = float(input(\"Enter Hands on Activity Grade in Average (0-100): \"))\n",
        "    final_exam = float(input(\"Enter Final Exam Grade in Average (0-100): \"))\n",
        "    quiz = float(input(\"Enter Quiz Grade in Average (0-100): \"))\n",
        "\n",
        "    final_cs = calculate_class_standing(hands_on_activity, quiz, assignment)\n",
        "    final_grade = calculate_final_grade(midterm_grade, final_exam, final_cs)\n",
        "\n",
        "    # Convert to numerical grade\n",
        "    numerical_grade = convert_to_numerical_grade(final_grade)\n",
        "\n",
        "    # The results of the Data\n",
        "    print(\"\\n --- RESULTS --- \\n\")\n",
        "    print(f\"\\nName: {name}\")\n",
        "    print(f\"Section: {section}\")\n",
        "    print(f\"Prelim Grade: {prelim_grade:.2f}\")\n",
        "    print(f\"Midterm Grade: {midterm_grade:.2f}\")\n",
        "    print(f\"Final Grade: {final_grade:.2f}\")\n",
        "    print(f\"General Weighted Average: {calculate_general_weighted_average(prelim_grade, midterm_grade, final_grade):.2f}\")\n",
        "    print(f\"Final Numerical Grade: {numerical_grade:.2f}\")\n",
        "\n",
        "\n",
        "main()\n",
        "99"
      ],
      "metadata": {
        "colab": {
          "base_uri": "https://localhost:8080/"
        },
        "id": "Q1R1WWVWW4Lr",
        "outputId": "1a297557-d678-45a5-bad0-3d2d23ecf074"
      },
      "execution_count": 16,
      "outputs": [
        {
          "output_type": "stream",
          "name": "stdout",
          "text": [
            "\n",
            " ---STUDENT INFORMATION--- \n",
            "\n",
            "Enter your name (Last name, First name Middle): Amutan,Rogenvan\n",
            "Enter your section: BSCpE 1-A\n",
            "\n",
            " --- PRELIMINARY SCORES --- \n",
            "\n",
            "Enter Assignment Grade in Average (0-100): 90\n",
            "Enter Hands on Activity Grade in Average (0-100): 90\n",
            "Enter Quiz Grade in Average (0-100): 90\n",
            "Enter Prelim Exam in Average (0-100): 91\n",
            "\n",
            " --- MIDTERM SCORES --- \n",
            "\n",
            "Enter Assignment Grade in Average (0-100): 93\n",
            "Enter Hands on Activity Grade in Average (0-100): 92\n",
            "Enter Midterm Exam Grade in Average (0-100): 91\n",
            "Enter Quiz Grade in Average (0-100): 90\n",
            "\n",
            " --- FINAL SCORES --- \n",
            "\n",
            "Enter Assignment Grade in Average (0-100): 93\n",
            "Enter Hands on Activity Grade in Average (0-100): 91\n",
            "Enter Final Exam Grade in Average (0-100): 92\n",
            "Enter Quiz Grade in Average (0-100): 90\n",
            "\n",
            " --- RESULTS --- \n",
            "\n",
            "\n",
            "Name: Amutan,Rogenvan\n",
            "Section: BSCpE 1-A\n",
            "Prelim Grade: 90.50\n",
            "Midterm Grade: 91.03\n",
            "Final Grade: 91.38\n",
            "General Weighted Average: 90.97\n",
            "Final Numerical Grade: 1.75\n"
          ]
        }
      ]
    }
  ],
  "metadata": {
    "kernelspec": {
      "display_name": "Python 3",
      "language": "python",
      "name": "python3"
    },
    "language_info": {
      "codemirror_mode": {
        "name": "ipython",
        "version": 3
      },
      "file_extension": ".py",
      "mimetype": "text/x-python",
      "name": "python",
      "nbconvert_exporter": "python",
      "pygments_lexer": "ipython3",
      "version": "3.7.3"
    },
    "colab": {
      "provenance": [],
      "toc_visible": true,
      "include_colab_link": true
    }
  },
  "nbformat": 4,
  "nbformat_minor": 0
}