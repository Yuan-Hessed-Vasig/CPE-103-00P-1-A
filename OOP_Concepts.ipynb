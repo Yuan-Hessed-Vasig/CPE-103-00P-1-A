{
  "nbformat": 4,
  "nbformat_minor": 0,
  "metadata": {
    "colab": {
      "provenance": [],
      "include_colab_link": true
    },
    "kernelspec": {
      "name": "python3",
      "display_name": "Python 3"
    },
    "language_info": {
      "name": "python"
    }
  },
  "cells": [
    {
      "cell_type": "markdown",
      "metadata": {
        "id": "view-in-github",
        "colab_type": "text"
      },
      "source": [
        "<a href=\"https://colab.research.google.com/github/Yuan-Hessed-Vasig/CPE-103-00P-1-A/blob/main/OOP_Concepts.ipynb\" target=\"_parent\"><img src=\"https://colab.research.google.com/assets/colab-badge.svg\" alt=\"Open In Colab\"/></a>"
      ]
    },
    {
      "cell_type": "markdown",
      "source": [],
      "metadata": {
        "id": "Z77blnkb8fpH"
      }
    },
    {
      "cell_type": "code",
      "execution_count": null,
      "metadata": {
        "id": "VfhH6RGY5wg8"
      },
      "outputs": [],
      "source": [
        "class Car:\n",
        "  pass"
      ]
    },
    {
      "cell_type": "markdown",
      "source": [
        "Class Construction"
      ],
      "metadata": {
        "id": "R12RtYDb8tVj"
      }
    },
    {
      "cell_type": "code",
      "source": [
        "class Car:\n",
        "  def __init__(self, name, color):\n",
        "    self.name = name #attribute\n",
        "    self.color = color"
      ],
      "metadata": {
        "id": "lvgq-Bb08ypo"
      },
      "execution_count": null,
      "outputs": []
    },
    {
      "cell_type": "code",
      "source": [
        "class Car:\n",
        "  car_type = \"Sedan\"\n",
        "\n",
        "  def __init__(self, name, mileage):\n",
        "    self.name = name\n",
        "    self.mileage = mileage\n",
        "\n",
        "  def description(self):\n",
        "    return \"The{self.name} car gives the mileage of {self.mileage}km/I\"\n",
        "\n",
        "  def max_speed(self, speed):\n",
        "    return \"The {self.name} runs at the maximum speed of {speed}km/h\""
      ],
      "metadata": {
        "id": "-2745urs-Xrn"
      },
      "execution_count": null,
      "outputs": []
    },
    {
      "cell_type": "markdown",
      "source": [
        "Multiple Objects with the same class"
      ],
      "metadata": {
        "id": "NXAEohmN_Sdt"
      }
    },
    {
      "cell_type": "code",
      "source": [
        "class Car:   #parent class\n",
        "\n",
        "  def __init__(self, name, mileage):\n",
        "    self.name = name\n",
        "    self.mileage = mileage\n",
        "\n",
        "  def description(self):\n",
        "    return f\"The {self.name} car gives the mileage of {self.mileage}km/i\"\n",
        "\n",
        "class BMW(Car): #child class\n",
        "  pass\n",
        "\n",
        "class Audi(Car): #child class\n",
        "  def audi_desc(self):\n",
        "    return \"This is the description method of class Audi\"\n",
        "\n",
        "bmw = BMW(\"BMW M3 GTR\", 39.53)\n",
        "print(bmw.description())\n",
        "\n",
        "audi = Audi(\"Audi A8 L\", 14)\n",
        "print(audi.description())\n",
        "print(audi.audi_desc())"
      ],
      "metadata": {
        "colab": {
          "base_uri": "https://localhost:8080/"
        },
        "id": "2KCOkGsl_XOR",
        "outputId": "9dae3a0a-2ccc-4009-cf20-7021835e76ef"
      },
      "execution_count": null,
      "outputs": [
        {
          "output_type": "stream",
          "name": "stdout",
          "text": [
            "The BMW M3 GTR car gives the mileage of 39.53km/i\n",
            "The Audi A8 L car gives the mileage of 14km/i\n",
            "This is the description method of class Audi\n"
          ]
        }
      ]
    },
    {
      "cell_type": "markdown",
      "source": [
        "Apply the OOP concept like class constructor, methods, inheritance to describe the sides of shapres (e.g. Triangle, Circle, Square, Rectangle)"
      ],
      "metadata": {
        "id": "fDjQxSx0EXwX"
      }
    },
    {
      "cell_type": "code",
      "source": [
        "class Shape:  ## ParentClass\n",
        "    def __init__(self, name, sides): ##Method with two parameters(name, sides)\n",
        "        self.name = name\n",
        "        self.sides = sides\n",
        "\n",
        "    def description(self): ## Method that returns a string\n",
        "        return f\"The {self.name} has {self.sides} sides\"\n",
        "\n",
        "class Triangle(Shape): ## Subclasses of the Shape Class\n",
        "    pass\n",
        "\n",
        "class Square(Shape):\n",
        "    pass\n",
        "\n",
        "class Rectangle(Shape):\n",
        "    pass\n",
        "\n",
        "#User Input to pick which shapes the user wants to know\n",
        "answer = input(\"Pick the Shapes \\n 1.Triangle \\t 2.Square \\t 3.Rectangle \\n\")\n",
        "\n",
        "##Create an insance of the respective shape\n",
        "triangle = Triangle(\"Triangle\", 3)\n",
        "square = Square(\"Square\", 4)\n",
        "rectangle = Rectangle(\"Rectangle\", 4)\n",
        "\n",
        "#If-else statement to determine what the user picked\n",
        "if answer == \"1\":\n",
        "    print(triangle.description())\n",
        "\n",
        "elif answer == \"2\":\n",
        "    print(square.description())\n",
        "\n",
        "elif answer == \"3\":\n",
        "    print(rectangle.description())\n",
        "\n",
        "else:\n",
        "    print(\"Invalid choice\")"
      ],
      "metadata": {
        "colab": {
          "base_uri": "https://localhost:8080/"
        },
        "id": "ngmhX3PQMPn2",
        "outputId": "80f33ce8-9902-466e-d5ba-774c7f777d4c"
      },
      "execution_count": null,
      "outputs": [
        {
          "output_type": "stream",
          "name": "stdout",
          "text": [
            "Pick the Shapes \n",
            " 1.Triangle \t 2.Square \t 3.Rectangle \n",
            "2\n",
            "The Square has 4 sides\n"
          ]
        }
      ]
    },
    {
      "cell_type": "code",
      "source": [],
      "metadata": {
        "id": "Stl8WY5iiiW3"
      },
      "execution_count": null,
      "outputs": []
    }
  ]
}