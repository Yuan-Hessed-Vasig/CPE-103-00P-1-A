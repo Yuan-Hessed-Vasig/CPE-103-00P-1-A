{
  "nbformat": 4,
  "nbformat_minor": 0,
  "metadata": {
    "colab": {
      "provenance": [],
      "toc_visible": true,
      "authorship_tag": "ABX9TyOarb1OYyFjCGgoZICVO0Xv",
      "include_colab_link": true
    },
    "kernelspec": {
      "name": "python3",
      "display_name": "Python 3"
    },
    "language_info": {
      "name": "python"
    }
  },
  "cells": [
    {
      "cell_type": "markdown",
      "metadata": {
        "id": "view-in-github",
        "colab_type": "text"
      },
      "source": [
        "<a href=\"https://colab.research.google.com/github/Yuan-Hessed-Vasig/CPE-103-00P-1-A/blob/main/Laboratory_No_2.ipynb\" target=\"_parent\"><img src=\"https://colab.research.google.com/assets/colab-badge.svg\" alt=\"Open In Colab\"/></a>"
      ]
    },
    {
      "cell_type": "markdown",
      "source": [
        "# Assigning Variables of Different Data Types in Python"
      ],
      "metadata": {
        "id": "NVnhzAAluYdY"
      }
    },
    {
      "cell_type": "code",
      "source": [
        "value = 5\n",
        "print(value)"
      ],
      "metadata": {
        "colab": {
          "base_uri": "https://localhost:8080/"
        },
        "id": "3XNankA7nkFl",
        "outputId": "571ce2e9-7f12-4056-8262-a4e335ebdbdf"
      },
      "execution_count": 19,
      "outputs": [
        {
          "output_type": "stream",
          "name": "stdout",
          "text": [
            "5\n"
          ]
        }
      ]
    },
    {
      "cell_type": "code",
      "source": [
        "value = 5.0\n",
        "print(value)"
      ],
      "metadata": {
        "colab": {
          "base_uri": "https://localhost:8080/"
        },
        "id": "h7BgN6kcngot",
        "outputId": "5af1e29c-e701-4f43-c224-184af298f6fe"
      },
      "execution_count": 21,
      "outputs": [
        {
          "output_type": "stream",
          "name": "stdout",
          "text": [
            "5.0\n"
          ]
        }
      ]
    },
    {
      "cell_type": "code",
      "execution_count": 20,
      "metadata": {
        "colab": {
          "base_uri": "https://localhost:8080/"
        },
        "id": "9kYrAExjnKQR",
        "outputId": "b4cf2a21-78a6-4b45-ac69-5b1e1fcbedcb"
      },
      "outputs": [
        {
          "output_type": "execute_result",
          "data": {
            "text/plain": [
              "int"
            ]
          },
          "metadata": {},
          "execution_count": 20
        }
      ],
      "source": [
        "type(value)"
      ]
    },
    {
      "cell_type": "code",
      "source": [
        "value = 2+3j\n",
        "type(value)"
      ],
      "metadata": {
        "colab": {
          "base_uri": "https://localhost:8080/"
        },
        "id": "bh_jVDJQoIx-",
        "outputId": "37869e80-244f-4240-8e88-22d3a4dea628"
      },
      "execution_count": 6,
      "outputs": [
        {
          "output_type": "execute_result",
          "data": {
            "text/plain": [
              "complex"
            ]
          },
          "metadata": {},
          "execution_count": 6
        }
      ]
    },
    {
      "cell_type": "code",
      "source": [
        "value = 'Hello World'\n",
        "type(value)"
      ],
      "metadata": {
        "colab": {
          "base_uri": "https://localhost:8080/"
        },
        "id": "vkDQ8biloWI9",
        "outputId": "1d46e702-4bbc-4401-bf6f-fd943a88880a"
      },
      "execution_count": 7,
      "outputs": [
        {
          "output_type": "execute_result",
          "data": {
            "text/plain": [
              "str"
            ]
          },
          "metadata": {},
          "execution_count": 7
        }
      ]
    },
    {
      "cell_type": "code",
      "source": [
        "value = \"Hello World\"\n",
        "type(value)"
      ],
      "metadata": {
        "colab": {
          "base_uri": "https://localhost:8080/"
        },
        "id": "TeuQN4IeobMd",
        "outputId": "a600e169-7b6d-4abc-c139-3d5c57184d2a"
      },
      "execution_count": 9,
      "outputs": [
        {
          "output_type": "execute_result",
          "data": {
            "text/plain": [
              "str"
            ]
          },
          "metadata": {},
          "execution_count": 9
        }
      ]
    },
    {
      "cell_type": "code",
      "source": [
        "value = True\n",
        "type(value)"
      ],
      "metadata": {
        "colab": {
          "base_uri": "https://localhost:8080/"
        },
        "id": "H76T4t25oeK8",
        "outputId": "106d9554-b0ea-4a07-cebb-6d1aab9d759e"
      },
      "execution_count": 10,
      "outputs": [
        {
          "output_type": "execute_result",
          "data": {
            "text/plain": [
              "bool"
            ]
          },
          "metadata": {},
          "execution_count": 10
        }
      ]
    },
    {
      "cell_type": "code",
      "source": [
        "value = False\n",
        "type(value)"
      ],
      "metadata": {
        "colab": {
          "base_uri": "https://localhost:8080/"
        },
        "id": "ITygqLrCok3N",
        "outputId": "81b30f19-fa1a-4d67-bfa5-368718f111c4"
      },
      "execution_count": 11,
      "outputs": [
        {
          "output_type": "execute_result",
          "data": {
            "text/plain": [
              "bool"
            ]
          },
          "metadata": {},
          "execution_count": 11
        }
      ]
    },
    {
      "cell_type": "code",
      "source": [
        "value = [1,2,3,4,5]\n",
        "type(value)"
      ],
      "metadata": {
        "colab": {
          "base_uri": "https://localhost:8080/"
        },
        "id": "ETMe2ClAorC9",
        "outputId": "2fe6a995-8a1d-4d6b-8498-87bce0212010"
      },
      "execution_count": 12,
      "outputs": [
        {
          "output_type": "execute_result",
          "data": {
            "text/plain": [
              "list"
            ]
          },
          "metadata": {},
          "execution_count": 12
        }
      ]
    },
    {
      "cell_type": "code",
      "source": [
        "value = (1,2,3,4,5)\n",
        "type(value)"
      ],
      "metadata": {
        "colab": {
          "base_uri": "https://localhost:8080/"
        },
        "id": "sKYVO7E0owl2",
        "outputId": "d547cf2a-8824-4a22-850c-7dc6e1f8ef94"
      },
      "execution_count": 13,
      "outputs": [
        {
          "output_type": "execute_result",
          "data": {
            "text/plain": [
              "tuple"
            ]
          },
          "metadata": {},
          "execution_count": 13
        }
      ]
    },
    {
      "cell_type": "code",
      "source": [
        "value = { 'name': 'Your_name' }\n",
        "type(value)"
      ],
      "metadata": {
        "colab": {
          "base_uri": "https://localhost:8080/"
        },
        "id": "_Vtt5lIkpEnO",
        "outputId": "a8b48e5a-1865-4e32-aa9b-986c8f2cabb6"
      },
      "execution_count": 16,
      "outputs": [
        {
          "output_type": "execute_result",
          "data": {
            "text/plain": [
              "dict"
            ]
          },
          "metadata": {},
          "execution_count": 16
        }
      ]
    },
    {
      "cell_type": "code",
      "source": [
        "value = None\n",
        "type(value)"
      ],
      "metadata": {
        "colab": {
          "base_uri": "https://localhost:8080/"
        },
        "id": "TWXGkERapThm",
        "outputId": "e9e6510e-b4ea-4f2f-8459-282da6efdcb3"
      },
      "execution_count": 17,
      "outputs": [
        {
          "output_type": "execute_result",
          "data": {
            "text/plain": [
              "NoneType"
            ]
          },
          "metadata": {},
          "execution_count": 17
        }
      ]
    },
    {
      "cell_type": "code",
      "source": [
        "value = 5\n",
        "value2 = -6"
      ],
      "metadata": {
        "id": "JA4ov8W1pbP-"
      },
      "execution_count": 18,
      "outputs": []
    },
    {
      "cell_type": "markdown",
      "source": [
        "# Performing Operations with Python"
      ],
      "metadata": {
        "id": "7eMsir7FurFQ"
      }
    },
    {
      "cell_type": "code",
      "source": [
        "#a\n",
        "value, value2 = 5.0, 6\n",
        "\n",
        "print(value+value2)"
      ],
      "metadata": {
        "colab": {
          "base_uri": "https://localhost:8080/"
        },
        "id": "lriSIWSiqWpl",
        "outputId": "f50751ec-147b-47a9-f73d-539c18d8bfb2"
      },
      "execution_count": 24,
      "outputs": [
        {
          "output_type": "stream",
          "name": "stdout",
          "text": [
            "11.0\n"
          ]
        }
      ]
    },
    {
      "cell_type": "code",
      "source": [
        "#b\n",
        "value, value2 = -5, 6.1\n",
        "\n",
        "print(value+value2)"
      ],
      "metadata": {
        "colab": {
          "base_uri": "https://localhost:8080/"
        },
        "id": "XUFLz2Rkq3KQ",
        "outputId": "2baf0809-efde-4bc0-c9be-108cb0029774"
      },
      "execution_count": 25,
      "outputs": [
        {
          "output_type": "stream",
          "name": "stdout",
          "text": [
            "1.0999999999999996\n"
          ]
        }
      ]
    },
    {
      "cell_type": "code",
      "source": [
        "#c\n",
        "value, value2 = \"Hello \", 'world'\n",
        "\n",
        "print(value+value2)"
      ],
      "metadata": {
        "colab": {
          "base_uri": "https://localhost:8080/"
        },
        "id": "n5ew3S6JrAC-",
        "outputId": "5152efac-b0a1-4dde-d1d2-3a686e217d97"
      },
      "execution_count": 27,
      "outputs": [
        {
          "output_type": "stream",
          "name": "stdout",
          "text": [
            "Hello world\n"
          ]
        }
      ]
    },
    {
      "cell_type": "code",
      "source": [
        "#d\n",
        "value,value2 = [1,2,3], [4,5,6]\n",
        "\n",
        "print(value+value2)"
      ],
      "metadata": {
        "colab": {
          "base_uri": "https://localhost:8080/"
        },
        "id": "uKP9gwzkrMom",
        "outputId": "a7323f7b-0e05-4e1c-c525-ef5c0ffb78b8"
      },
      "execution_count": 28,
      "outputs": [
        {
          "output_type": "stream",
          "name": "stdout",
          "text": [
            "[1, 2, 3, 4, 5, 6]\n"
          ]
        }
      ]
    },
    {
      "cell_type": "code",
      "source": [
        "#e\n",
        "value,value2 = (1,2,3), (4,5,6)\n",
        "\n",
        "print(value+value2)"
      ],
      "metadata": {
        "colab": {
          "base_uri": "https://localhost:8080/"
        },
        "id": "CD_F0VwTrajl",
        "outputId": "1e120f69-1ca0-4e94-c4dd-7ca750ff6a23"
      },
      "execution_count": 30,
      "outputs": [
        {
          "output_type": "stream",
          "name": "stdout",
          "text": [
            "(1, 2, 3, 4, 5, 6)\n"
          ]
        }
      ]
    },
    {
      "cell_type": "code",
      "source": [
        "#f\n",
        "value,value2 = {\"name\": \"Royce\"}, {\"age\": 2}\n",
        "\n",
        "print({**value, **value2})"
      ],
      "metadata": {
        "colab": {
          "base_uri": "https://localhost:8080/"
        },
        "id": "G9Ix2cPXrW92",
        "outputId": "3ae3a091-22b2-45bf-ae04-65b44cc31a27"
      },
      "execution_count": 93,
      "outputs": [
        {
          "output_type": "stream",
          "name": "stdout",
          "text": [
            "{'name': 'Royce', 'age': 2}\n"
          ]
        }
      ]
    },
    {
      "cell_type": "code",
      "source": [
        "#a(-)\n",
        "value, value2 = 5.0, 6\n",
        "\n",
        "print(value-value2)"
      ],
      "metadata": {
        "colab": {
          "base_uri": "https://localhost:8080/"
        },
        "id": "azAP2Xq8rqP_",
        "outputId": "af74b697-1985-4272-a125-e6c8da49a452"
      },
      "execution_count": 40,
      "outputs": [
        {
          "output_type": "stream",
          "name": "stdout",
          "text": [
            "-1.0\n"
          ]
        }
      ]
    },
    {
      "cell_type": "code",
      "source": [
        "#b(-)\n",
        "value, value2 = -5, 6.1\n",
        "\n",
        "print(value-value2)"
      ],
      "metadata": {
        "colab": {
          "base_uri": "https://localhost:8080/"
        },
        "id": "0Sar8oEwsV72",
        "outputId": "df727572-4a60-4238-db7d-edb1384d8895"
      },
      "execution_count": 39,
      "outputs": [
        {
          "output_type": "stream",
          "name": "stdout",
          "text": [
            "-11.1\n"
          ]
        }
      ]
    },
    {
      "cell_type": "markdown",
      "source": [
        "Number 3(Performing Operations with Python)"
      ],
      "metadata": {
        "id": "J_mx9T9Us4f3"
      }
    },
    {
      "cell_type": "code",
      "source": [
        "#a\n",
        "value, value2 = 30,4\n",
        "\n",
        "print(value*value2)\n"
      ],
      "metadata": {
        "colab": {
          "base_uri": "https://localhost:8080/"
        },
        "id": "a4bD_MGitJTe",
        "outputId": "39419aa4-8388-482c-945b-8911e35577a5"
      },
      "execution_count": 42,
      "outputs": [
        {
          "output_type": "stream",
          "name": "stdout",
          "text": [
            "120\n"
          ]
        }
      ]
    },
    {
      "cell_type": "code",
      "source": [
        "#b\n",
        "value, value2 = 30,4\n",
        "\n",
        "print(value2**2)"
      ],
      "metadata": {
        "colab": {
          "base_uri": "https://localhost:8080/"
        },
        "id": "8NATNT1itpYP",
        "outputId": "3fbe04c0-f44a-4227-b6d8-bd23c9d32d36"
      },
      "execution_count": 41,
      "outputs": [
        {
          "output_type": "stream",
          "name": "stdout",
          "text": [
            "16\n"
          ]
        }
      ]
    },
    {
      "cell_type": "code",
      "source": [
        "#c\n",
        "value, value2 = 30,4\n",
        "\n",
        "print(value2**3)"
      ],
      "metadata": {
        "colab": {
          "base_uri": "https://localhost:8080/"
        },
        "id": "RQJnvhtnt5__",
        "outputId": "1a004f7f-c131-439c-ec04-85968a8c865a"
      },
      "execution_count": 43,
      "outputs": [
        {
          "output_type": "stream",
          "name": "stdout",
          "text": [
            "64\n"
          ]
        }
      ]
    },
    {
      "cell_type": "code",
      "source": [
        "#d\n",
        "value, value2 = 30,4\n",
        "\n",
        "print(value**value2+value2**2+1)"
      ],
      "metadata": {
        "colab": {
          "base_uri": "https://localhost:8080/"
        },
        "id": "M9Npcf0NuCDO",
        "outputId": "f93cb858-e6f6-4df8-de30-b6b99a77cda0"
      },
      "execution_count": 44,
      "outputs": [
        {
          "output_type": "stream",
          "name": "stdout",
          "text": [
            "810017\n"
          ]
        }
      ]
    },
    {
      "cell_type": "code",
      "source": [
        "#e\n",
        "value, value2 = 30, 4\n",
        "\n",
        "print(value/value2)"
      ],
      "metadata": {
        "colab": {
          "base_uri": "https://localhost:8080/"
        },
        "id": "vhOQAkrRuI_W",
        "outputId": "9879ca87-feb1-4d0a-ad70-113f649bb968"
      },
      "execution_count": 46,
      "outputs": [
        {
          "output_type": "stream",
          "name": "stdout",
          "text": [
            "7.5\n"
          ]
        }
      ]
    },
    {
      "cell_type": "code",
      "source": [
        "#f\n",
        "value, value2 = 30, 4\n",
        "\n",
        "print(value%value2)"
      ],
      "metadata": {
        "colab": {
          "base_uri": "https://localhost:8080/"
        },
        "id": "FksQJhAQuNLW",
        "outputId": "f2d429dc-71aa-4d83-df69-0cf61663bae1"
      },
      "execution_count": 45,
      "outputs": [
        {
          "output_type": "stream",
          "name": "stdout",
          "text": [
            "2\n"
          ]
        }
      ]
    },
    {
      "cell_type": "markdown",
      "source": [
        "# Assigning Input Data to a Variable"
      ],
      "metadata": {
        "id": "uRaU6siFu_S3"
      }
    },
    {
      "cell_type": "code",
      "source": [
        "name = input(\"Enter your name: \")\n",
        "weight = float(input(\"Enter your weight(KG): \"))\n",
        "height = float(input(\"Enter your meters(m): \",))\n",
        "\n",
        "bmi = weight / height**2\n",
        "\n",
        "print(\"\\nName:\",name)\n",
        "print(\"Weight:\",weight,\"kg\")\n",
        "print(\"Height:\",height,\"m\")\n",
        "print(\"BMI:\",(bmi))"
      ],
      "metadata": {
        "colab": {
          "base_uri": "https://localhost:8080/"
        },
        "id": "kNTw5bbMvJkH",
        "outputId": "024fa5dd-f7cf-4f1a-c7cd-cdfa5155e891"
      },
      "execution_count": 71,
      "outputs": [
        {
          "output_type": "stream",
          "name": "stdout",
          "text": [
            "Enter your name: Yuan\n",
            "Enter your weight(KG): 73\n",
            "Enter your meters(m): 1.68\n",
            "\n",
            "Name: Yuan\n",
            "Weight: 73.0 kg\n",
            "Height: 1.68 m\n",
            "BMI: 25.86451247165533\n"
          ]
        }
      ]
    },
    {
      "cell_type": "markdown",
      "source": [
        "# Supplementary Activity"
      ],
      "metadata": {
        "id": "FEXJQVQzzjG_"
      }
    },
    {
      "cell_type": "markdown",
      "source": [
        "Number 1"
      ],
      "metadata": {
        "id": "Y1wKdrWI1Q6m"
      }
    },
    {
      "cell_type": "code",
      "source": [
        "base = 0.0\n",
        "height = 0.0\n",
        "area = 0.0\n",
        "\n",
        "base = float(input(\"Enter the base of the triangle: \"))\n",
        "height = float(input(\"Enter the height of the triangle: \"))\n",
        "\n",
        "area = (1 / 2) * base * height\n",
        "\n",
        "\n",
        "print(\"The area of the triangle is:\", area)\n"
      ],
      "metadata": {
        "colab": {
          "base_uri": "https://localhost:8080/"
        },
        "id": "EmGMJU3kzn8u",
        "outputId": "61d5b485-8734-4593-e26c-43fbe9332a4b"
      },
      "execution_count": 81,
      "outputs": [
        {
          "output_type": "stream",
          "name": "stdout",
          "text": [
            "Enter the base of the triangle: 10\n",
            "Enter the height of the triangle: 9\n",
            "The area of the triangle is: 45.0\n"
          ]
        }
      ]
    },
    {
      "cell_type": "markdown",
      "source": [
        "Number 2"
      ],
      "metadata": {
        "id": "nfnOqPUy1Z7v"
      }
    },
    {
      "cell_type": "code",
      "source": [
        "celsius = 0.0\n",
        "fahrenheit = 0.0\n",
        "\n",
        "celsius = float(input(\"Input the value for Celsius: \"))\n",
        "\n",
        "\n",
        "fahrenheit = (celsius * 9/5) + 32\n",
        "\n",
        "\n",
        "print(\"The value in Fahrenheit is:\", fahrenheit, \"°F\")\n"
      ],
      "metadata": {
        "colab": {
          "base_uri": "https://localhost:8080/"
        },
        "id": "3IKp2bui3eXv",
        "outputId": "4a72527d-9d6d-4c06-8fd1-8c4377b6be81"
      },
      "execution_count": 88,
      "outputs": [
        {
          "output_type": "stream",
          "name": "stdout",
          "text": [
            "Input the value for Celsius: 100\n",
            "The value in Fahrenheit is: 212.0 °F\n"
          ]
        }
      ]
    },
    {
      "cell_type": "markdown",
      "source": [
        "Number 3"
      ],
      "metadata": {
        "id": "75QQI51A3_mG"
      }
    },
    {
      "cell_type": "code",
      "source": [
        "x1 = 0.0\n",
        "x2 = 0.0\n",
        "y1 = 0.0\n",
        "y2 = 0.0\n",
        "\n",
        "x1 = float(input(\"Enter the x1 value: \"))\n",
        "x2 = float(input(\"Enter the x2 value: \"))\n",
        "y1 = float(input(\"Enter the y1 value: \"))\n",
        "y2 = float(input(\"Enter the y2 value: \"))\n",
        "\n",
        "distance = ((x2 - x1)**2 + (y2 - y1)**2)**0.5\n",
        "\n",
        "\n",
        "print(\"The distance between the two points is:\", distance)"
      ],
      "metadata": {
        "colab": {
          "base_uri": "https://localhost:8080/"
        },
        "id": "xnxy0lW63_RH",
        "outputId": "db167d78-0fbd-46ee-972b-8906317c9828"
      },
      "execution_count": 92,
      "outputs": [
        {
          "output_type": "stream",
          "name": "stdout",
          "text": [
            "Enter the x1 value: 1\n",
            "Enter the x2 value: -4\n",
            "Enter the y1 value: 9\n",
            "Enter the y2 value: 3\n",
            "The distance between the two points is: 7.810249675906654\n"
          ]
        }
      ]
    },
    {
      "cell_type": "markdown",
      "source": [
        "Question 1(Answer)\n",
        "\n",
        "- One major difference between Python and other languages such as C is the readability of the language and how easy it is for beginners to use\n",
        "\n",
        "- It is also main an OOP language compared to the Procedural type of C language."
      ],
      "metadata": {
        "id": "KOotJ7GP54x-"
      }
    },
    {
      "cell_type": "markdown",
      "source": [
        "Question 2(Answer)\n",
        "\n",
        "- Variable assignment differ in python language in a way variables do not need to be declared with any particular type, and can even change type after they have been set."
      ],
      "metadata": {
        "id": "-gT77NJF64F_"
      }
    },
    {
      "cell_type": "markdown",
      "source": [
        "Question 3(Answer)\n",
        "\n",
        "- There should be no number at the beginning of a variable name and special characters aren't allowed except for the underscore (_)."
      ],
      "metadata": {
        "id": "uq7K2S1z7lvq"
      }
    },
    {
      "cell_type": "markdown",
      "source": [
        "Question 4(Answer)\n",
        "\n",
        "- In terms of numbers the operators works as intended but when it comes to strings the operators (-, /, %, and **) dont work.For list and tuples + adds the numbers and * repeats the sequence but other operators dont work for this type of data."
      ],
      "metadata": {
        "id": "MwKq24LJ8QHv"
      }
    },
    {
      "cell_type": "code",
      "source": [],
      "metadata": {
        "id": "saUtBzCNHK1O"
      },
      "execution_count": null,
      "outputs": []
    },
    {
      "cell_type": "markdown",
      "source": [
        "Question 5(Answer)\n",
        "\n",
        "- The * operator is for multiplication of values whilst the ** is for exponentation."
      ],
      "metadata": {
        "id": "zkhs6C3z-TDl"
      }
    },
    {
      "cell_type": "markdown",
      "source": [
        "# Conclusion"
      ],
      "metadata": {
        "id": "cvhFeDZq_PbY"
      }
    },
    {
      "cell_type": "markdown",
      "source": [
        "In conclusion, different data types all serve a significant purpose depending on the task that requires it. Different operations and data types interact differently from one another and it's pretty easy to manipulate variables in python.\n",
        "\n",
        "The operators have a set of rules to follow when assigned on a variables. In addition to that. Python provides an easier user input to bind variables for later use. In summary, Python's simplistic syntax helps to deal with variables and operations for users to use"
      ],
      "metadata": {
        "id": "Dp54-CeS_rl3"
      }
    }
  ]
}