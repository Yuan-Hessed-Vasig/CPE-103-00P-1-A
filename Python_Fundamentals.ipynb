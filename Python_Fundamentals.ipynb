{
  "nbformat": 4,
  "nbformat_minor": 0,
  "metadata": {
    "colab": {
      "provenance": [],
      "toc_visible": true,
      "authorship_tag": "ABX9TyNl4HjVRQM5wiWJmWhc2fCt",
      "include_colab_link": true
    },
    "kernelspec": {
      "name": "python3",
      "display_name": "Python 3"
    },
    "language_info": {
      "name": "python"
    }
  },
  "cells": [
    {
      "cell_type": "markdown",
      "metadata": {
        "id": "view-in-github",
        "colab_type": "text"
      },
      "source": [
        "<a href=\"https://colab.research.google.com/github/Yuan-Hessed-Vasig/CPE-103-00P-1-A/blob/main/Python_Fundamentals.ipynb\" target=\"_parent\"><img src=\"https://colab.research.google.com/assets/colab-badge.svg\" alt=\"Open In Colab\"/></a>"
      ]
    },
    {
      "cell_type": "markdown",
      "source": [
        "# Python Fundamentals\n"
      ],
      "metadata": {
        "id": "kcMTmDbbVtED"
      }
    },
    {
      "cell_type": "markdown",
      "source": [
        "Python Indentation"
      ],
      "metadata": {
        "id": "w0OiGmG7FmGc"
      }
    },
    {
      "cell_type": "code",
      "source": [
        "x = 5\n",
        "y = 2\n",
        "\n",
        "if x > y:\n",
        "  print (\"X is greater than Y\")\n",
        "elif x < y:\n",
        "  print (\"X is less than Y\")"
      ],
      "metadata": {
        "id": "yiq9wlTQID3q"
      },
      "execution_count": 25,
      "outputs": []
    },
    {
      "cell_type": "markdown",
      "source": [
        "Python Comments"
      ],
      "metadata": {
        "id": "gEnWvgW5Jpsb"
      }
    },
    {
      "cell_type": "code",
      "source": [
        "#This is comment\n",
        "\n",
        "print (\"Hello World\")"
      ],
      "metadata": {
        "id": "bjDREfs1JrkL"
      },
      "execution_count": null,
      "outputs": []
    },
    {
      "cell_type": "markdown",
      "source": [
        "Python Variable\n"
      ],
      "metadata": {
        "id": "wbxA5YIRJv_L"
      }
    },
    {
      "cell_type": "code",
      "source": [
        "x = 1\n",
        "a, b = 0, -1\n",
        "a, b, c = 0, -1, 2"
      ],
      "metadata": {
        "id": "DzzPudOtJ0tr"
      },
      "execution_count": 24,
      "outputs": []
    },
    {
      "cell_type": "code",
      "source": [
        "b = \"Sally\" #This is a type of string"
      ],
      "metadata": {
        "id": "R95lCn4KKK3b"
      },
      "execution_count": null,
      "outputs": []
    },
    {
      "cell_type": "markdown",
      "source": [
        "Casting"
      ],
      "metadata": {
        "id": "WOwOwMw1K6ii"
      }
    },
    {
      "cell_type": "code",
      "source": [
        "b = \"sally\" #This is a type of string\n",
        "b = int (4)\n",
        "print (b)\n",
        "\n",
        "b = float (4)\n",
        "print (b)"
      ],
      "metadata": {
        "colab": {
          "base_uri": "https://localhost:8080/"
        },
        "id": "BhwQHxNOK-Qj",
        "outputId": "8eeaac3d-f169-4bc2-d00a-9892fb8ca2e1"
      },
      "execution_count": 26,
      "outputs": [
        {
          "output_type": "stream",
          "name": "stdout",
          "text": [
            "4\n",
            "4.0\n"
          ]
        }
      ]
    },
    {
      "cell_type": "markdown",
      "source": [
        "Type() Function"
      ],
      "metadata": {
        "id": "tLsJ63d1LKGy"
      }
    },
    {
      "cell_type": "code",
      "source": [
        "x = 5\n",
        "y = \"John\"\n",
        "\n",
        "print (type(x))\n",
        "print (type(y))"
      ],
      "metadata": {
        "colab": {
          "base_uri": "https://localhost:8080/"
        },
        "id": "hkSiVotrLMfK",
        "outputId": "44373501-2aab-464e-ba8f-ba1386b92f45"
      },
      "execution_count": 31,
      "outputs": [
        {
          "output_type": "stream",
          "name": "stdout",
          "text": [
            "5\n",
            "John\n"
          ]
        }
      ]
    },
    {
      "cell_type": "markdown",
      "source": [
        "\"Double Quotes\" or 'Single' Quotes"
      ],
      "metadata": {
        "id": "UEFheOZKMP1z"
      }
    },
    {
      "cell_type": "code",
      "source": [
        "y = \"John\"\n",
        "x = 'Yuan'\n",
        "\n",
        "print (y, x)"
      ],
      "metadata": {
        "colab": {
          "base_uri": "https://localhost:8080/"
        },
        "id": "FEuV4ToLMVKr",
        "outputId": "56f1271d-ad63-4fb9-8289-ce9dddf3f46b"
      },
      "execution_count": 33,
      "outputs": [
        {
          "output_type": "stream",
          "name": "stdout",
          "text": [
            "John Yuan\n"
          ]
        }
      ]
    },
    {
      "cell_type": "markdown",
      "source": [
        "Case Sensitive"
      ],
      "metadata": {
        "id": "pSgPIeZKMdwp"
      }
    },
    {
      "cell_type": "code",
      "source": [
        "a = 4\n",
        "A = \"Sally\"\n",
        "#A will not overwrite a\n",
        "\n",
        "print (a)"
      ],
      "metadata": {
        "colab": {
          "base_uri": "https://localhost:8080/"
        },
        "id": "thTlF3gAMv7J",
        "outputId": "37a1691d-ecf2-4952-baae-f6919907bd08"
      },
      "execution_count": 36,
      "outputs": [
        {
          "output_type": "stream",
          "name": "stdout",
          "text": [
            "4\n"
          ]
        }
      ]
    },
    {
      "cell_type": "markdown",
      "source": [
        "Multiple Variables"
      ],
      "metadata": {
        "id": "ADxeE8tUNC8R"
      }
    },
    {
      "cell_type": "code",
      "source": [
        "x, y, z = \"one\", \"two\", \"three\"\n",
        "\n",
        "print(x)\n",
        "print(y)\n",
        "print(z)"
      ],
      "metadata": {
        "colab": {
          "base_uri": "https://localhost:8080/"
        },
        "id": "9v_QR7z5NFop",
        "outputId": "6fe7aa48-5453-41db-e342-3c163f7eb728"
      },
      "execution_count": 38,
      "outputs": [
        {
          "output_type": "stream",
          "name": "stdout",
          "text": [
            "one\n",
            "two\n",
            "three\n"
          ]
        }
      ]
    },
    {
      "cell_type": "markdown",
      "source": [
        "One Value to Multiple Variables"
      ],
      "metadata": {
        "id": "oFhcSYBGNREy"
      }
    },
    {
      "cell_type": "code",
      "source": [
        "x = y = z = \"four\"\n",
        "print(x)\n",
        "print(y)\n",
        "print(z)"
      ],
      "metadata": {
        "colab": {
          "base_uri": "https://localhost:8080/"
        },
        "id": "B5PLozokNV8R",
        "outputId": "0e6c58dc-0eea-447c-fc27-8963498527ad"
      },
      "execution_count": 42,
      "outputs": [
        {
          "output_type": "stream",
          "name": "stdout",
          "text": [
            "four\n",
            "four\n",
            "four\n"
          ]
        }
      ]
    },
    {
      "cell_type": "markdown",
      "source": [
        "Output Variables"
      ],
      "metadata": {
        "id": "d3ViETomNhTr"
      }
    },
    {
      "cell_type": "code",
      "source": [
        "x = \"enjoying\"\n",
        "print (\"Python programming is \" +x)"
      ],
      "metadata": {
        "colab": {
          "base_uri": "https://localhost:8080/"
        },
        "id": "yDdSdhNVNmsK",
        "outputId": "e6cabacc-b8f1-4f87-aceb-20c378761ed6"
      },
      "execution_count": 43,
      "outputs": [
        {
          "output_type": "stream",
          "name": "stdout",
          "text": [
            "Python programming is enjoying\n"
          ]
        }
      ]
    },
    {
      "cell_type": "code",
      "source": [
        "x = \"Python is \"\n",
        "y = \"enjoying\"\n",
        "z = x + y\n",
        "print(z)"
      ],
      "metadata": {
        "colab": {
          "base_uri": "https://localhost:8080/"
        },
        "id": "Ki20DRK6NsSJ",
        "outputId": "2e0d6d5a-830c-41df-fc73-e17f888f53a9"
      },
      "execution_count": 46,
      "outputs": [
        {
          "output_type": "stream",
          "name": "stdout",
          "text": [
            "Python is enjoying\n"
          ]
        }
      ]
    },
    {
      "cell_type": "markdown",
      "source": [
        "Arithmetic Operations"
      ],
      "metadata": {
        "id": "qvX0ArTnN3aJ"
      }
    },
    {
      "cell_type": "code",
      "source": [
        "x = 5\n",
        "y = 3\n",
        "print (x+y)"
      ],
      "metadata": {
        "id": "Hu1oxpfZOSxJ"
      },
      "execution_count": null,
      "outputs": []
    },
    {
      "cell_type": "code",
      "source": [
        "x = 5\n",
        "y = 3\n",
        "sum = x + y\n",
        "sum"
      ],
      "metadata": {
        "colab": {
          "base_uri": "https://localhost:8080/"
        },
        "id": "UJj8rwgyOJkh",
        "outputId": "01d0dd4f-e5d5-4190-fb46-436e042f4b18"
      },
      "execution_count": 47,
      "outputs": [
        {
          "output_type": "execute_result",
          "data": {
            "text/plain": [
              "8"
            ]
          },
          "metadata": {},
          "execution_count": 47
        }
      ]
    },
    {
      "cell_type": "markdown",
      "source": [
        "\n",
        "\n",
        "> Assignment Operators\n",
        "\n"
      ],
      "metadata": {
        "id": "8BaPBkwXOrL6"
      }
    },
    {
      "cell_type": "code",
      "source": [
        "# (=) Operator\n",
        "\n",
        "x = 3 # same as 'x = 5'"
      ],
      "metadata": {
        "id": "DIbdZfPkQbuh"
      },
      "execution_count": null,
      "outputs": []
    },
    {
      "cell_type": "code",
      "source": [
        "# (+=) Operator\n",
        "\n",
        "x += 3 # same as 'x = x + 3'"
      ],
      "metadata": {
        "colab": {
          "base_uri": "https://localhost:8080/"
        },
        "id": "N3QwCQo9QshB",
        "outputId": "2af57e64-eee9-46a6-d267-f424d9373d28"
      },
      "execution_count": 50,
      "outputs": [
        {
          "output_type": "stream",
          "name": "stdout",
          "text": [
            "8\n"
          ]
        }
      ]
    },
    {
      "cell_type": "code",
      "source": [
        "# (-=) Operator\n",
        "\n",
        "x -= 3 # same as 'x = x - 3'"
      ],
      "metadata": {
        "id": "IIW4PtbuQ59g"
      },
      "execution_count": null,
      "outputs": []
    },
    {
      "cell_type": "code",
      "source": [
        "# (*=) Operator\n",
        "\n",
        "x *= 3 # same as 'x = x * 3'"
      ],
      "metadata": {
        "id": "fcCpzh-qRCs5"
      },
      "execution_count": null,
      "outputs": []
    },
    {
      "cell_type": "code",
      "source": [
        "# (/=) Operator\n",
        "\n",
        "x /= 3 # same as 'x = x / 3'"
      ],
      "metadata": {
        "id": "NqTZkhJ5RI5x"
      },
      "execution_count": null,
      "outputs": []
    },
    {
      "cell_type": "code",
      "source": [
        "# (%=) Operator\n",
        "\n",
        "x %= 3 # same as 'x = x % 3'"
      ],
      "metadata": {
        "id": "GcqHCZnRRMwx"
      },
      "execution_count": null,
      "outputs": []
    },
    {
      "cell_type": "code",
      "source": [
        "# (//=) Operator\n",
        "\n",
        "x //= 3 # same as 'x = x // 3'"
      ],
      "metadata": {
        "id": "ynuvYgpYRXaJ"
      },
      "execution_count": null,
      "outputs": []
    },
    {
      "cell_type": "code",
      "source": [
        "# (**=) Operator\n",
        "\n",
        "x **= 3 # same as 'x = x ** 3'\n",
        "\n",
        "print(x)"
      ],
      "metadata": {
        "colab": {
          "base_uri": "https://localhost:8080/"
        },
        "id": "EtM9qA7dRibx",
        "outputId": "55b76d36-3a5d-4f6f-9ac6-e3ef80465a64"
      },
      "execution_count": 51,
      "outputs": [
        {
          "output_type": "stream",
          "name": "stdout",
          "text": [
            "512\n"
          ]
        }
      ]
    },
    {
      "cell_type": "code",
      "source": [
        "# (&=) Operator\n",
        "\n",
        "x &= 3 # same as 'x = x & 3'"
      ],
      "metadata": {
        "id": "eAOEXc1rRl44"
      },
      "execution_count": null,
      "outputs": []
    },
    {
      "cell_type": "code",
      "source": [
        "# (!=) Operator\n",
        "\n",
        "x |= 3 # same as 'x = x | 3'"
      ],
      "metadata": {
        "id": "rq1Oe2h_RuEw"
      },
      "execution_count": null,
      "outputs": []
    },
    {
      "cell_type": "code",
      "source": [
        "# (^=) Operator\n",
        "\n",
        "x ^= 3 # same as 'x = x ^ 3'"
      ],
      "metadata": {
        "id": "ofeyl0L6R6SJ"
      },
      "execution_count": null,
      "outputs": []
    },
    {
      "cell_type": "code",
      "source": [
        "# (>>=) Operator\n",
        "\n",
        "x >>= 3 # same as 'x = x >> 3'"
      ],
      "metadata": {
        "id": "AFK-wttzSdGo"
      },
      "execution_count": null,
      "outputs": []
    },
    {
      "cell_type": "code",
      "source": [
        "# (<<=) Operator\n",
        "\n",
        "x <<= 3 # same as 'x = x << 3'"
      ],
      "metadata": {
        "id": "0SbEAFu-Sjwh"
      },
      "execution_count": null,
      "outputs": []
    },
    {
      "cell_type": "markdown",
      "source": [
        "Comparison and Logical Operators"
      ],
      "metadata": {
        "id": "Dem-DD4-PAwp"
      }
    },
    {
      "cell_type": "code",
      "source": [
        "#Logical Operator\n",
        "\n",
        "x = 5\n",
        "y = 2\n",
        "not (x<y)"
      ],
      "metadata": {
        "id": "toqg9yMrUcWJ"
      },
      "execution_count": null,
      "outputs": []
    },
    {
      "cell_type": "markdown",
      "source": [
        "Identity Operators"
      ],
      "metadata": {
        "id": "fJdDcsteP7iw"
      }
    },
    {
      "cell_type": "code",
      "source": [
        "a, b, c = 0, - 1, 6\n",
        "a>b and c>b\n",
        "True"
      ],
      "metadata": {
        "colab": {
          "base_uri": "https://localhost:8080/"
        },
        "id": "D5MRuuQRPCwh",
        "outputId": "d170838b-7e8b-4146-fbb7-cf0663823c68"
      },
      "execution_count": 53,
      "outputs": [
        {
          "output_type": "execute_result",
          "data": {
            "text/plain": [
              "True"
            ]
          },
          "metadata": {},
          "execution_count": 53
        }
      ]
    },
    {
      "cell_type": "code",
      "source": [
        "a, b, c = 0, -1, 5\n",
        "a is c\n",
        "False"
      ],
      "metadata": {
        "id": "oTV6vBvDQHvh"
      },
      "execution_count": null,
      "outputs": []
    },
    {
      "cell_type": "markdown",
      "source": [
        "Bitwise Operators"
      ],
      "metadata": {
        "id": "ziyb5t0LUBoA"
      }
    },
    {
      "cell_type": "code",
      "source": [
        "#decimal to binary\n",
        "#20 = 10100\n",
        "\n",
        "x = 20\n",
        "x >> 1\n",
        "\n",
        "#10 = 01010"
      ],
      "metadata": {
        "colab": {
          "base_uri": "https://localhost:8080/"
        },
        "id": "uPqzwaujUjOg",
        "outputId": "acfb570a-8bc3-4842-b8dd-66b9d7b630d1"
      },
      "execution_count": 72,
      "outputs": [
        {
          "output_type": "execute_result",
          "data": {
            "text/plain": [
              "1"
            ]
          },
          "metadata": {},
          "execution_count": 72
        }
      ]
    },
    {
      "cell_type": "markdown",
      "source": [
        "Application 1"
      ],
      "metadata": {
        "id": "qiHNLM9yYUjA"
      }
    },
    {
      "cell_type": "code",
      "source": [
        "#Application 1\n",
        "\n",
        "#Trapezoid\n",
        "\n",
        "a_trap = input(\"Input the length a: \")\n",
        "b_trap = input(\"Input the length b: \")\n",
        "h_tra = input(\"Input height(h): \")\n",
        "\n",
        "Area_trap = float(a) + float(b) * float(h) / 2\n",
        "print(\"The area of the trapezoid is: \" , Area_trap)"
      ],
      "metadata": {
        "colab": {
          "base_uri": "https://localhost:8080/"
        },
        "id": "rjsaUG_XYYHp",
        "outputId": "bc358025-5aa4-4954-b35e-e111220197d1"
      },
      "execution_count": null,
      "outputs": [
        {
          "name": "stdout",
          "output_type": "stream",
          "text": [
            "Input the length a: 10\n"
          ]
        }
      ]
    },
    {
      "cell_type": "code",
      "source": [
        "#Triangle\n",
        "\n",
        "b_tri = input(\"Input the base length of triangle: \")\n",
        "h_tri = input(\"Input the heigh of the triangle: \")\n",
        "\n",
        "Area_tri = float(b) * float(h) / 2\n",
        "print(\"The area of the triangle is: \", Area_tri)"
      ],
      "metadata": {
        "colab": {
          "base_uri": "https://localhost:8080/"
        },
        "id": "dVUq_o6CZpyB",
        "outputId": "6147a0a6-02db-41dd-a87b-428ece98fc70"
      },
      "execution_count": 85,
      "outputs": [
        {
          "output_type": "stream",
          "name": "stdout",
          "text": [
            "Input the base length of triangle: 10\n",
            "Input the heigh of the triangle: 10\n",
            "The area of the triangle is:  314.1592653589793\n"
          ]
        }
      ]
    },
    {
      "cell_type": "code",
      "source": [
        "#Circle\n",
        "\n",
        "pi_value = 3.141592653589793\n",
        "\n",
        "r_circ = input(\"Input the radius of the circle: \")\n",
        "\n",
        "Area_circ = pi_value * float(r_circ) * float(r_circ)\n",
        "print(\"The area of the circle is: \", Area_circ)"
      ],
      "metadata": {
        "colab": {
          "base_uri": "https://localhost:8080/"
        },
        "id": "WzvPbmn2a124",
        "outputId": "6ae1942f-c616-46e2-8c3e-77059588115f"
      },
      "execution_count": 82,
      "outputs": [
        {
          "output_type": "stream",
          "name": "stdout",
          "text": [
            "Input the radius of the circle: 10\n",
            "The area of the circle is:  314.1592653589793\n"
          ]
        }
      ]
    }
  ]
}